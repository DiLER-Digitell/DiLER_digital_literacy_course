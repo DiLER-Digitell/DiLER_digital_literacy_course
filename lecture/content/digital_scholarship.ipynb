{
 "cells": [
  {
   "cell_type": "markdown",
   "id": "6b7ea083",
   "metadata": {},
   "source": [
    "# Digital Scholarship/Academic Practice\n",
    "\n",
    "\n",
    "## Introduction\n",
    "Digital scholarship here refers to research practices centered around using digital systems. \n",
    "    \n",
    "Due to the evolution of computers and increasingly faster communication technologies, science has evolved beyond simply collecting data for a specific project, running some (simple) analysis, and publishing results in a Scientific journal. Buzzwords like \"Big Data,\" \"cloud computing,\" and Machine learning/A.I have taken the world, Academia included, by storm. In the following lesson, we'll provide a general introduction regarding relevant concepts and technologies, how and when to apply them, and guide you toward additional resources that may help you evolve these skill sets yourself.\n",
    "\n",
    "\n",
    "\n",
    "## Roadmap\n",
    "\n",
    "We'll mainly concentrate on the trio of **Big Data Analytics, Machine Learning/AI, and Cloud Computing** in the following content blocks. You'll also be more generally introduced to relevant concepts like **Social Media Analytics, Natural Language Processing, Human-Computer Interaction, the Internet of Things (IoT) approach, and Social Media Analytics**.\n",
    "\n",
    "The following lessons will mainly consist of introductory chapters to the most important aspects where digital literacy meets modern fields of science.\n",
    "\n",
    "</br>\n",
    "\n",
    "<img src=\"https://external-preview.redd.it/hWh_8TpqrT6zAwpzHJ_m9Rx3iHjc_yI4zSI6aazMFTc.jpg?auto=webp&s=6d8006ac3edca5bad98dd7b5b9a4a8d5554eaff0\" alt=\"png depicting the file structure of the course template repository\" class=\"bg-primary\" width=\"300px\">\n",
    "\n",
    "\n",
    "\n",
    "</br>\n",
    "\n",
    "**Follow these links or use the table of contents on the left side to navigate this module**\n",
    "\n",
    "* [Big Data Analytics](https://diler-digitell.github.io/DiLER_digital_literacy_course/content/ds_big_data.html):\n",
    "    - Collecting and analyzing large amounts of data\n",
    "    - FAIR principles\n",
    "* [Machine Learning/AI](https://diler-digitell.github.io/DiLER_digital_literacy_course/content/ds_ml_ai.html): In-depth, practical lesson on the usage of Machine learning/Artificial Intelligence in research.\n",
    "\n",
    "* [Cloud Computing](https://diler-digitell.github.io/DiLER_digital_literacy_course/content/ds_cloud_computing.html):\n",
    "    - Old school: BASH & SSH\n",
    "    - new approaches: Google Colab\n",
    "    \n",
    "* [Digital Scholarship: Applied Fields](https://diler-digitell.github.io/DiLER_digital_literacy_course/content/ds_digital_research.html):\n",
    "    - Social Media Analytics, Natural Language Processing, Human-Computer Interaction, Internet of Things (IoT) approach, and Social Media Analytics\n",
    "    \n",
    "    \n",
    "\n"
   ]
  }
 ],
 "metadata": {
  "kernelspec": {
   "display_name": "Python 3 (ipykernel)",
   "language": "python",
   "name": "python3"
  },
  "language_info": {
   "codemirror_mode": {
    "name": "ipython",
    "version": 3
   },
   "file_extension": ".py",
   "mimetype": "text/x-python",
   "name": "python",
   "nbconvert_exporter": "python",
   "pygments_lexer": "ipython3",
   "version": "3.7.6"
  }
 },
 "nbformat": 4,
 "nbformat_minor": 5
}
