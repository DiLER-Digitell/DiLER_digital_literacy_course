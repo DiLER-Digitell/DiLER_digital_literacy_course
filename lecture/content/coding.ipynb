{
 "cells": [
  {
   "cell_type": "markdown",
   "id": "59c7b6a2",
   "metadata": {},
   "source": [
    "# Programming in Empirircal Research\n",
    "\n",
    "</br>\n",
    "\n",
    "There are lots of excellent resources online for learning more about bash:\n",
    "\n",
    "* [The GNU Manual](http://www.gnu.org/manual/manual.html) is **the** reference for all bash commands\n",
    "* [\"Learning the Bash Shell\"](http://shop.oreilly.com/product/9780596009656.do) book\n",
    "* An interactive on-line bash shell course: [Learnshell](https://www.learnshell.org/)"
   ]
  },
  {
   "cell_type": "markdown",
   "id": "424bf30c",
   "metadata": {},
   "source": [
    "## Motivation: Why coding is necessary in modern research\n",
    "\n",
    "\n",
    "As we've already heard digital literacy involves the ability to use digital tools and technology effectively and efficiently. \n",
    "\n",
    "`One such critical ability for scientific work is coding/programming.`\n",
    "In this chapter, we will therefore discuss and explore some of the fundamental concepts behind wirting code for scientific work and teach the basics of two of the most commonly encountered and useful programming languages.\n",
    "\n"
   ]
  },
  {
   "cell_type": "markdown",
   "id": "44714a04",
   "metadata": {},
   "source": [
    "-------------------\n",
    "\n",
    "## Roadmap\n",
    "\n",
    "\n",
    "### Sub-chapter 1: Learn to Code - The Basics\n",
    "\n",
    "Learning to code is becoming increasingly important in today's digital world. In this sub-chapter, we will introduce the basics of coding, including the fundamental concepts and terminologies. We will also discuss the importance of learning to code and its benefits.\n",
    "\n",
    "\n",
    "-------------------\n",
    "\n",
    "### Sub-chapter 2: Jupyter Notebook Tutorial\n",
    "\n",
    "Jupyter Notebooks are an interactive web-based tool that allows users to create and share documents that contain live code, equations, visualizations, and narrative text. In this sub-chapter, we will provide a tutorial on Jupyter Notebook and guide the readers through the basics of using this tool.\n",
    "\n",
    "-------------------\n",
    "\n",
    "### Sub-chapter 3: Python Tutorial\n",
    "\n",
    "Python is a popular high-level programming language used for various purposes, including web development, data analysis, and artificial intelligence. In this sub-chapter, we will provide a tutorial on Python and guide the readers through the basics of programming with this language. We will discuss the syntax, data types, and control structures of Python.\n",
    "\n",
    "\n",
    "-------------------\n",
    "\n",
    "### Sub-chapter 4 Bash Tutorial\n",
    "\n",
    "Bash is a language for the Unix shell (or the windows PowerShell), a command-line interface for interacting with the operating system. In this sub-chapter, we will provide a tutorial on Bash and guide the readers through the basics of using this tool. We will discuss the different commands and their functionalities.\n"
   ]
  },
  {
   "cell_type": "markdown",
   "id": "4df86e9d",
   "metadata": {},
   "source": [
    "## Before we start: \n",
    "\n",
    "The following ressources are meant to provide an introduction to coding in general and Python more specificaly. This will not be enough to actually become a \"good\" programmer.\n",
    "\n",
    "The most important advice for learing programming is: \n",
    "- Play around with code, \n",
    "    e.g. use the interactive functionalitfy of the following chapters or download the course material [here](https://github.com/M-earnest/diler_dgitial_literacy_course/archive/refs/heads/main.zip).  Extract the material and open the respective .ipynb files corresponding to the following lessons (intro_python_nb_I.ipynb)\n",
    "    \n",
    "- Find the motivation to actually want to code: e.g. find an idea/project you want to realize\n",
    "\n",
    "Also, to reflect on how to think and structure your coding lessons or e.g. find other ressources, check out the following Video (you don't need to understand/watch each point).\n",
    "\n",
    "</br>\n",
    "</br>\n",
    "\n",
    "\n",
    "[How I would learn to code: if I could start over (Tina Huang)](https://www.youtube.com/watch?v=MHPGeQD8TvI)\n",
    "\n",
    "-----------------------------------------------------\n",
    "\n",
    "<iframe width=\"560\" height=\"315\" src=\"https://www.youtube.com/embed/MHPGeQD8TvI\" title=\"YouTube video player\" frameborder=\"0\" allow=\"accelerometer; autoplay; clipboard-write; encrypted-media; gyroscope; picture-in-picture; web-share\" allowfullscreen></iframe>\n",
    "\n",
    "\n",
    "-------------------------------------------------------\n",
    "</br>\n",
    "\n",
    "[How to learn to code FAST using ChatGPT (it's a game changer seriously)(Tina Huang)](https://www.youtube.com/watch?v=VznoKyh6AXs&t=1s)\n",
    "\n",
    "---------------------------------------------------\n",
    "\n",
    "\n",
    "<iframe width=\"560\" height=\"315\" src=\"https://www.youtube.com/embed/VznoKyh6AXs\" title=\"YouTube video player\" frameborder=\"0\" allow=\"accelerometer; autoplay; clipboard-write; encrypted-media; gyroscope; picture-in-picture; web-share\" allowfullscreen></iframe>\n",
    "\n",
    "\n",
    "</br>\n",
    "</br>\n",
    "</br>\n",
    "\n",
    "-------------------\n"
   ]
  },
  {
   "cell_type": "markdown",
   "id": "74ffabd6",
   "metadata": {},
   "source": [
    "### Additional Material\n",
    "\n",
    "Some great Python resources:\n",
    "\n",
    "[The official Python tutorial](https://docs.python.org/3/tutorial/)\n",
    "\n",
    "[Python for research course](https://www.edx.org/course/using-python-for-research)\n",
    "\n",
    "-----------------------------\n",
    "\n",
    "There are lots of excellent resources online for learning more about bash:\n",
    "\n",
    "* [The GNU Manual](http://www.gnu.org/manual/manual.html) is **the** reference for all bash commands\n",
    "* [\"Learning the Bash Shell\"](http://shop.oreilly.com/product/9780596009656.do) book\n",
    "* An interactive on-line bash shell course: [Learnshell](https://www.learnshell.org/)"
   ]
  }
 ],
 "metadata": {
  "kernelspec": {
   "display_name": "Python 3 (ipykernel)",
   "language": "python",
   "name": "python3"
  },
  "language_info": {
   "codemirror_mode": {
    "name": "ipython",
    "version": 3
   },
   "file_extension": ".py",
   "mimetype": "text/x-python",
   "name": "python",
   "nbconvert_exporter": "python",
   "pygments_lexer": "ipython3",
   "version": "3.7.6"
  }
 },
 "nbformat": 4,
 "nbformat_minor": 5
}
