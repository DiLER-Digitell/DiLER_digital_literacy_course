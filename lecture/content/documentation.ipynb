{
 "cells": [
  {
   "cell_type": "markdown",
   "id": "d119ada2",
   "metadata": {},
   "source": [
    "# Documentation and other Academic Content\n"
   ]
  },
  {
   "cell_type": "markdown",
   "id": "5d5eb023",
   "metadata": {
    "slideshow": {
     "slide_type": "slide"
    }
   },
   "source": [
    "## Goals\n",
    "\n",
    "* Learn about how to create and maintain a Lab-notebooks\n",
    "* Learn why documenting your day-to-day work is essential for every good scientist."
   ]
  },
  {
   "cell_type": "markdown",
   "id": "5fe56e5b",
   "metadata": {},
   "source": [
    "\n",
    "## Introduction\n",
    "\n",
    "Academic content can take on many forms besides the classic report or thesis paper, especially now that it's become easier than ever to create an online presence. A community of scientists is switching to creating websites documenting their research endeavors in-depth, often alongside classic journal publications.\n",
    "\n",
    "These \"living publications\" often take the form of an e-book that is freely accessible online. An example of this can be found here in the [publication “Neuroscout: a unified platform for generalizable and reproducible fMRI research”](https://neuroscout.github.io/neuroscout-paper/intro.html).\n",
    "\n",
    "In the chapter [communication and collaboration](), you'll learn how to create such an online presence. An in-depth introduction to how to create a website using open-source tools can be found in the course [ creating interactive content with “Jupyter Books”!](https://felixkoerber.github.io/jb/intro.html); this template can be simply adapted to host a book or publication.\n",
    "\n",
    "----------------------------\n",
    "\n",
    "## Creating a Lab-notebook\n",
    "\n",
    "The underlying content is often derived from the documentation scientists write alongside their scientific work. A useful tool to take notes and document your work is a so-called \"lab notebook.\" \n",
    "\n",
    "Getting into the habit of maintaining a lab notebook is crucial for beginner scientists, regardless of their field of study, but it is also a relevant skill for every professional.\n",
    "\n",
    "It is a tool to record all of your observations, measurements, calculations, and ideas related to a scientific experiment or project. A well-kept lab notebook serves as a permanent record of your work and can be a valuable resource for future reference, collaboration, and communication with others. Storing it online, e.g., on a project [repository on GitHub](), allows you to access your notes from anywhere in the world.\n",
    "\n",
    "Your Lab Notebook may be project-specific or kept more in the form of a \"research diary,\" where you jot down what you have been working on throughout a day or week.\n",
    "\n",
    "Content could be:\n",
    "\n",
    "- Date and title of the experiment, \n",
    "\n",
    "- project or sub-task that you've been working on\n",
    "\n",
    "- background information, \n",
    "\n",
    "- links or snippets of relevant literature\n",
    "\n",
    "- Code and related bugs you may have encountered, including how you've solved them\n",
    "\n",
    "- Procedure, including step-by-step instructions and any deviations from the plan\n",
    "\n",
    "- Observations, including data and measurements recorded during the experiment\n",
    "\n",
    "- Calculations, including formulas and results\n",
    "\n",
    "- Drawings, Graphs, and visual aids\n",
    "\n",
    "- Questions that came up during your work\n",
    "\n",
    "- Problems you may have encountered\n",
    "    \n",
    "    \n",
    "</br>\n",
    "\n",
    "</br>\n",
    "\n",
    "------------------------\n",
    "\n",
    "### Maintaining a Lab-notebook\n",
    "\n",
    "How often you update and how extensive your entries are is entirely up to you. A good habit is to take short notes at the end of each workday and translate them into your Lab notebook once a week. This not only helps you keep tabs on the work you've been doing but also helps you think about and engage with your work more deeply. It further provides a handy resource for progress meetings with other students or Professors and P.I.s.\n",
    "\n",
    "-----------------------------------\n",
    "\n",
    "### Jupyter Notebooks:\n",
    "\n",
    "A popular file format for writing a lab notebook and for scientific content creation is the [Jupyter Notebook](https://jupyter.org/), as it provides a convenient and interactive environment for text content, visualizations, and code snippets.\n",
    "\n",
    "Whether you're taking notes, collecting code snippets in your lab notebook, or writing a report or research paper, Jupyter Notebooks can help you organize and communicate your findings effectively.\n",
    "\n",
    "An in-depth lesson on content creation with Jupyter Notebooks can be found in the sub-chapter [Jupyter Notebooks](https://diler-digitell.github.io/DiLER_digital_literacy_course/content/jupyter_notebooks_in_edu.html?highlight=notebook).\n"
   ]
  },
  {
   "cell_type": "markdown",
   "id": "d2d9cfd4",
   "metadata": {},
   "source": [
    "##  Achknowledgments\n",
    "\n",
    "\n",
    "<br>\n",
    "\n",
    "Most of what you’ll see within this lecture was prepared and adapted for this course by Peer Herholz, Michael Ernst & Felix Körber\n",
    "\n",
    "\n",
    "[Michael Ernst](https://github.com/M-earnest)  \n",
    "Phd student - [Fiebach Lab](http://www.fiebachlab.org/), [Neurocognitive Psychology](https://www.psychologie.uni-frankfurt.de/49868684/Abteilungen) at [Goethe-University Frankfurt](https://www.goethe-university-frankfurt.de/en?locale=en)\n",
    "\n"
   ]
  }
 ],
 "metadata": {
  "kernelspec": {
   "display_name": "Python 3 (ipykernel)",
   "language": "python",
   "name": "python3"
  },
  "language_info": {
   "codemirror_mode": {
    "name": "ipython",
    "version": 3
   },
   "file_extension": ".py",
   "mimetype": "text/x-python",
   "name": "python",
   "nbconvert_exporter": "python",
   "pygments_lexer": "ipython3",
   "version": "3.7.6"
  }
 },
 "nbformat": 4,
 "nbformat_minor": 5
}
