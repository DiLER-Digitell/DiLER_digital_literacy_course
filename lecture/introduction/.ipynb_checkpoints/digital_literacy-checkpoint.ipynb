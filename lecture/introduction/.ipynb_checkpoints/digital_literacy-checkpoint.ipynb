{
 "cells": [
  {
   "cell_type": "markdown",
   "metadata": {
    "slideshow": {
     "slide_type": "slide"
    }
   },
   "source": [
    "## Introduction - digital literacy\n",
    "\n",
    "\n",
    "[Michael Ernst](https://github.com/M-earnest)  \n",
    "Phd student - [Fiebach Lab](http://www.fiebachlab.org/), [Neurocognitive Psychology](https://www.psychologie.uni-frankfurt.de/49868684/Abteilungen) at [Goethe-University Frankfurt](https://www.goethe-university-frankfurt.de/en?locale=en)"
   ]
  },
  {
   "cell_type": "markdown",
   "metadata": {},
   "source": [
    "### Where are we now?\n",
    "\n",
    "Follow along in this questionnaire to evaluate your understanding of the concept of digital literacy at the moment. At the end of of the respective lessons and at the end of this course, we'll contrast your answers with your hopefully newly gained skills and knowledge.\n",
    "\n",
    "**1)** Please indicate whether you have received training in\n",
    "*<topic_of_interest>*:\n",
    "\n",
    "| Have you participated in one (or more) of the following?|   |no |yes| \n",
    "|---------------------------------------------------------|---|---|---|\n",
    "| Lecture                                                 |   |   |   |\n",
    "| Seminar                                                 |   |   |   |\n",
    "| Workshop                                                |   |   |   |\n",
    "| Internship                                              |   |   |   |\n",
    "| Other:                                                  |   |   |   |\n",
    "\n",
    "\n",
    "\n",
    "_Note: Feel free to do this in your head or in a separate document. Remember, to interactively engage with the material either open it in MyBinder (the small rocket button at the top of the website) or [download the course material](link to course zip), go through the [setup process](link to setup) and open this file (i.e digital_literacy.ipynb in the introduction folder) using Jupyter Notebooks or VScode._"
   ]
  },
  {
   "cell_type": "markdown",
   "metadata": {},
   "source": [
    "**2)** Would you consider your self experienced in the context of:\n",
    "\n",
    "**topic_of_interest**\n",
    "\n",
    "\n",
    "\n",
    "| **no, not at all** |     |     |     |     |     | **yes, entirely** |\n",
    "|:------------------:|-----|-----|-----|-----|-----|:-----------------:|\n",
    "| (1)                | (2) | (3) | (4) | (5) | (6) | (7)               |\n",
    "\n",
    "\n",
    "\n",
    "**optional_further_related_topics**\n",
    "\n",
    "| **no, not at all** |     |     |     |     |     | **yes, entirely** |\n",
    "|:------------------:|-----|-----|-----|-----|-----|:-----------------:|\n",
    "| (1)                | (2) | (3) | (4) | (5) | (6) | (7)               |\n"
   ]
  },
  {
   "cell_type": "markdown",
   "metadata": {},
   "source": [
    "**3)** From your current perspective, what part of *topic_of_interest*\n",
    "would you consider to be the most challenging for you? If you don't have any\n",
    "experience with *<topic_of_interest>*, which part of *topic_of_interest* \n",
    "do you think might be the most challenging for you?\n",
    "\n",
    "| **(free text)** |\n",
    "|:---------------:|"
   ]
  },
  {
   "cell_type": "markdown",
   "metadata": {},
   "source": [
    "**4)** At this stage, how interested are you in the subject of *<topic_of_interest>*?\n",
    "\n",
    "| **not at all interested?** |     |     |     |     |     | **very interested** |\n",
    "|:------------------:|-----|-----|-----|-----|-----|:-----------------:|\n",
    "| (1)                | (2) | (3) | (4) | (5) | (6) | (7)               |  "
   ]
  },
  {
   "cell_type": "markdown",
   "metadata": {},
   "source": [
    "```{warning}\n",
    "_Disclaimer_: The following assumes that students are familiar with the setup page. To interact withe the course material students will need to download the course material and open this file on their own machine or use the MyBinder plugin at the top of the screen to access an interactive version of the website. However, students are also welcome to follow along using alternative tools such as Google Docs if they prefer. Please ensure that you have the necessary setup and access to the required technology before beginning the course.\n",
    "\n",
    "If using MyBinder make sure to download your notebook at the end of a session, otherwise all changes you made online will be potentially lost.\n",
    "To download the modified notebook, you can use the \"File\" menu in the Jupyter Notebook interface and select \"Download as\" and choose a file format such as \".ipynb\" (Jupyter Notebook format), \".py\" (Python script), or \".pdf\" (Portable Document Format). Following you can use VScode or the Jupyter notebook software to open your file!\n",
    "```"
   ]
  },
  {
   "cell_type": "markdown",
   "metadata": {
    "slideshow": {
     "slide_type": "slide"
    }
   },
   "source": [
    "## What is \"digital literacy\"?\n",
    "\n",
    "A straightforward definition of digital literacy usually pertains to ones ability to independently find, evaluate, communicate, and handle information from digital media (Shopova 2014).\n",
    "\n",
    "That the lack of digital literacy can limit social integration and personal growth, making it a crucial life skill to possess (Shapiro, 2009) was already true more than a decade ago, nowadays as more and more of our everyday life drifts into virtual spaces it becomes an absolute necessity to be digital literate. This is especially true for people in academdia and research, as every step of our acadmic carreer and every step in the research process nowadays is dependent on finding, evaluating and applying knowledge found online or dependent in the application of digital tools.\n",
    "\n",
    "The importance of digital literacy is not to be underestimated as digital literacy in itself may be viewed simply as  the current form of \"literacy per se\" in our culture - i.e. \"to read, write and otherwise deal with information using the technologies and formats of the time\". (Bawden, 2008)\n",
    "\n",
    "Let's explore the idea behind this ability a bit more closely. There's been quite a few different understandings what it means to be digital literacy over the last decades, each including their own definition and correlated implications (Bawden, 2008). The discourse can roughly be categorized into two positions. \n",
    "\n",
    "Where one position holds the idea that digital literacy is primarily concerned with a set of skills, that have to be aquired to be seen a as digitally literate, while the other holds the idea that digital literacy is focused on the \"cognitive and socio-emotional aspects of working in a digital environment\"\n",
    "\n",
    "For this course we're not only leaning into the idea of digital literacy as a competence or a generalizable ability, following the initial proposition of \"mastering ideas, not keystrokes\" by Paul Glister (1997), but we will demonstrate the underlying concepts, such as how to \"find or handle information\", by discussing specfific tools and how to properly use them. Therefore demonstrating how these concepts relate to the aquisition and possibly mastery of a skillset, that will make scientific work much easier.\n",
    "\n",
    "\n",
    "As this course is primarily centered around scientific practice, we will not be dealing with basic topics such as \"What is this interenet?\", \"what's a meme?\" or \"how do i use social media?\". \n",
    "Although we can make a point of them, as they illustrate the basic point of why digital literacy is such an important concept, namely that there is  “participation gap”, between those who can and can't maneuver digital spaces and handle digital information. \n",
    "\n",
    "The \"participation gap\" this course tries to bridge is based on the differences between those that can effectively use digital tools and information to do scientific work and those who may not have the necessary knowledge yet.\n",
    "\n",
    "\n",
    "\n",
    "\n",
    "\n",
    "\n"
   ]
  },
  {
   "cell_type": "markdown",
   "metadata": {
    "slideshow": {
     "slide_type": "slide"
    }
   },
   "source": [
    "## Goals\n",
    "\n",
    "\n",
    "As already explained this course is designed to give students a comprehensive understanding of digital literacy and its various applications. \n",
    "\n",
    "Specific goals of this first session will be\n",
    "\n",
    "* understand the concept of digital litearacy\n",
    "* understand why digital literarcy is important\n",
    "* understand the ethical and social implications of digital technologies and their meaning for academia and research\n",
    "* provide information on how to build your digital literacy and where to additional information"
   ]
  },
  {
   "cell_type": "markdown",
   "metadata": {},
   "source": [
    "    \n",
    "\n"
   ]
  },
  {
   "cell_type": "markdown",
   "metadata": {},
   "source": []
  },
  {
   "cell_type": "markdown",
   "metadata": {},
   "source": [
    "If you prefer a more extensive definition, here is the one provided by the [Leeds Beckett Universities Centre for Learning and Teaching (2014)](https://teachlearn.leedsbeckett.ac.uk/-/media/files/clt/clt_beckett_embedding_digital_literacy_icons.pdf) in reference to Sterigoulas (2006).\n",
    "\n",
    "\n",
    "Digital literacy is **\"the confident and critical use of information and digital technologies to enhance academic, personal and\n",
    "professional development.\"**\n",
    "\n",
    "Consiting of:\n",
    "\n",
    "- **Computer literacy**: the ability to identify, adopt and use digital devices, applications and services in the fulfilment of activities and tasks whether study, employment or leisure related.\n",
    "\n",
    "\n",
    "- **Information literacy**: the ability to find, access, evaluate, manipulate, re-use, synthesise and record information whilst understanding issues of authority, reliability, provenance, citation and relevance in digitised resources.\n",
    "\n",
    "\n",
    "- **Media literacy**: including, for example, visual literacy, multimedia literacy: the ability to critically read and creatively produce professional communications in the most appropriate media.\n",
    "\n",
    "\n",
    "- **Communication and collaboration**: the ability to develop and engage in digital networks appropriate to the needs of the participants and context, using a range of digital communications tools and showing awareness of identity and reputation management.\n",
    "\n",
    "\n",
    "     \n",
    "- **Digital scholarship**: the ability to participate in academic and professional practices that depend on digital systems, including the use of virtual learning environments, open access repositories, resource discovery tools and emergent technologies whilst demonstrating an awareness of the issues around content discovery, authority, reliability, provenance, licence restrictions, adaption and re purposing of sources.\n",
    "\n",
    "\n",
    "\n",
    "- **Academic practice**: the ability to study and learn effectively in formal and informal technology-rich\n",
    "    environments, including: use of digital tools to support critical thinking, academic writing, note taking, reference management, time and task management; being assessed and attending to feedback in digital/digitised formats; independent study using digital resources and learning materials.\n",
    "\n",
    "\n",
    "\n",
    "- **Professional development planning**: the ability to make informed decisions and achieve goals, through the effective use of digital tools and media, which may include e-portfolios, professional online communication & collaboration tools and networking facilities, demonstrating an awareness of identity and reputation management\n",
    "\n",
    "\n",
    "</br>\n",
    "</br>\n",
    "</br>\n",
    "</br>\n",
    "\n",
    "Along those lines, with some distinctions, the  Joint Information Systems Committee [(JISC)](https://www.jisc.ac.uk/about) demonstrates the complexities of digital literacy in a [seven elements model](https://www.jisc.ac.uk/guides/developing-digital-literacies), \n",
    "\n",
    "\n",
    "\n",
    "<img src=\"https://www.jisc.ac.uk/sites/default/files/7-elements.png\" alt=\"Alternative text\" />\n",
    "\n",
    "<center> \n",
    "<a href=\"https://www.jisc.ac.uk/sites/default/files/7-elements.png\"> © JISC; 16.Dec.2014 </a>\n",
    "</center>\n",
    "\n",
    "\n",
    "\n",
    "\n",
    "</br>\n",
    "</br>\n",
    "</br>\n",
    "</br>\n",
    "\n",
    "**The follwoing sessions will follow these distinctions and we'll mainly concentrate on the topics of**\n",
    "\n",
    "\n",
    "   **- information & media literacy**\n",
    "        - find, evaluate and manage information/data, read and produce academic works using digital media\n",
    "        - BASH, Github\n",
    "\n",
    "   **- digital scholarship/Academic practice**\n",
    "        - research practices centered around digital systems\n",
    "\n",
    "   **- ICT (information and communication technology) literacy**\n",
    "        - adopt and use digital tools/services\n",
    "        - basic coding skills: Python\n",
    "        \n",
    "   **- communication and collaborration**\n",
    "        - data visualization, outreach\n",
    "\n",
    "\n"
   ]
  },
  {
   "cell_type": "markdown",
   "metadata": {},
   "source": [
    "### Why should you care?\n",
    "\n",
    "----------------------- rework-----------------------------\n",
    "\n",
    "\n",
    "\n",
    "---------- incorporate blog entry-------------\n",
    "\n",
    "\n",
    "**TlDR:**\n",
    "\n",
    "We will necessarily be increasingly relying on computational support to deal with information, data and analysis as a direct result of the increase in complexity, volume and speed of creation of scientific output and data. Therefore it is crucial to be equipped with the understanding and skill to know how and when to rely on digital assets. If you wanna hang with the best, get with the times!\n",
    "\n",
    "But how about some more personal reasons:\n",
    "\n",
    "- get ahead in your carreer, widen your skill-portfolio\n",
    "- make your life easier, save time and effort\n",
    "- be more effective, make collaboration easier\n",
    "- learn what it means to provide [FAIR] information/ressources/data\n",
    "- keep yourself save from lawsuits (e.g. by breaching privacy laws or unintentional plagiarism)\n",
    "- make science accessible for everyone\n",
    "\n",
    "\n",
    "**More in depth:**\n",
    "\n",
    "Teaching students digital literacy plays a critical role in enabling their access to the field of science by providing them with the skills and understanding they need to participate in this growing field. With these skills, students are better equipped to contribute to the advancement of science and help to promote the values of openness and collaboration in the scientific community.\n",
    "\n",
    "Some specific examples would be:\n",
    "\n",
    "**Increased access to data and information:** \n",
    "Digital literacy provides students with the skills they need to access and use large and complex data sets, which are essential for open science. With these skills, students are better equipped to collaborate with other researchers and contribute to the scientific community.\n",
    "\n",
    "**Better collaboration:** Digital literacy enables students to collaborate with researchers from around the world, regardless of location. This allows students to work on open science projects with a broader range of expertise and perspectives, leading to more informed and innovative research.\n",
    "\n",
    "**Improved data management:** Digital literacy helps students to manage and preserve their research data in a manner that is accessible and transparent, allowing other researchers to verify and build upon their work.\n",
    "\n",
    "**Encourages transparency:** Digital literacy encourages students to make their research findings openly available and accessible to other researchers, which promotes transparency and accountability in science. Learning about what it means for research to be FAIR(citation), meaning **F**indable, **A**ccessible, **I**nteroperable, and **R**eusable (regarding analyses and digital assets) will not only turn students into better scientists, but will magnify the impact of their research in general.\n",
    "\n",
    "**Supports open access:** Digital literacy helps students to understand the importance of open access and the benefits it brings to the scientific community. By teaching students about open access, educators can help to ensure that future generations of scientists are committed to making their research openly available to all.\n",
    "\n",
    "\n",
    "\n",
    "**Ethical and social implications of Digital literacy and their meaning for academia and research**\n",
    "\n",
    "\"\"In academia and research, digital technologies have revolutionized the way information is collected, analyzed, and disseminated. However, they have also raised new ethical and social issues, such as privacy and security, intellectual property, and the democratization of information.\n",
    "\n",
    "For example, the widespread collection and storage of personal data by digital technologies has raised concerns about privacy and security, as well as the responsible use of this data by corporations and governments. Additionally, the ease of accessing and sharing information online has made it more difficult to protect intellectual property and ensure that original ideas are properly credited.\n",
    "\n",
    "\n",
    "Systemic barriers in academia:\n",
    "\n",
    "\n",
    "1. Unequal access to technology: the aforementioned \"participation gap\"\n",
    "\n",
    "Students facing socio-economic hardships may not be able to afford the tools they've been trained on in university (think paid software such as Excel, Photoshop, SPSS) or are unable to afford the hardware to participate in research projects. This perpetuates enonomic and career related inequalities and it is our duty as members of society to remedy this flaw.\n",
    "  \n",
    "2. Inadequate funding for technology and training: \n",
    "Many academic institutions have limited budgets for technology and training, which can prevent faculty and staff from acquiring the digital skills they need to succeed in the modern academic environment.\n",
    "\n",
    "\n",
    "\n",
    "2. Outdated policies and procedures: \n",
    "Academic institutions may have policies and procedures that are not designed to accommodate the use of digital technologies, which can create barriers for faculty and students who want to use these tools in their work or depend on them for future endevaours.\n",
    "\n",
    "3. Lack of integration of digital tools into curricula: \n",
    "Students may not receive adequate training in digital tools and technologies during their education, that they will require for their own research projects or future phd positions.\n",
    "\n",
    "4. Resistance to change: \n",
    "Due to not understanding the necessity of digital skills in the sciences, some faculty members may be resistant to the use of digital technologies in their teaching, which can create barriers for students who are trying to develop their digital skills. (E.g why would a psychologist need to be able to code?)\n",
    "\n",
    "5. Inadequate support: \n",
    "There may be a lack of support for faculty members who are trying to integrate digital tools into their teaching, including inadequate training and resources \n",
    "\n",
    "\n",
    "\n",
    "Academia and research (you and me included) must consider these ethical and social implications when using digital technologies and must work to minimize any negative impacts. This requires an adequate understanding and awareness of digital technologies, their capabilities and the way they shape the scientif process. Digital literacy is therefore an essential abilitys for everonye involved.\n",
    "\n",
    "\n",
    "Moreover, we, as researchers and academics have a responsibility to ensure that the our scientific output (which nowadays also usually includes  digital technologies in the form of apps or code) promotes the public good and supports the ethical principles our community. This includes protecting privacy, ensuring that the results of research are not biased, and promoting transparency and access to our results.\n",
    "\n",
    "\n",
    "\n",
    "</br>\n",
    "</br>\n",
    "</br>\n",
    "</br>\n",
    "\n",
    "\n",
    "You'll find explicit reminder on why a certain topic of this course is relevant to you in the introduction page of each setting\n"
   ]
  },
  {
   "cell_type": "markdown",
   "metadata": {},
   "source": []
  },
  {
   "cell_type": "markdown",
   "metadata": {},
   "source": [
    "### Example: \n",
    "\n",
    "There are some truly stunning revelations some people encounter when being shown how to \"properly\" interact with a program, like students discovering the undo/redo shortcuts halfway to their academic life or that a [survey from 2011 revealed that 90% of people assessed did not know how to search for keywords on a website using cmd/ctrl+f](https://www.theatlantic.com/technology/archive/2011/08/crazy-90-percent-of-people-dont-know-how-to-use-ctrl-f/243840/),\n",
    "\n",
    "\n",
    "\n",
    "So to illustrate how simply making someone aware of their digital habits and introducing subtle strategies can lead to disproportiante changes in our everyday lifes, we'll be working with a certain tool that most people use on a daily basis. Google. To be more precise the google search engine.\n",
    "\n",
    "We've probably all seen or heard about how some less \"tech-savy\" people use google like: \n",
    "\n",
    "\n",
    "\n",
    "<img src=\"https://i.redd.it/5uviid1r4ub01.png\" alt=\"Alternative text\" />\n",
    "\n",
    "\n",
    "<center> \n",
    "<a href=\"https://www.reddit.com/r/oldpeoplefacebook/comments/7sf3oc/hre_you_open_today/\">via reddit.com</a>\n",
    "</center>\n",
    "\n",
    "\n",
    "\n",
    "\n",
    "I.e. using a more personal or conversational tone and relying on long, descriptive phrases, instead of specific keywords and being generally unaware of advanced search operators.\n"
   ]
  },
  {
   "cell_type": "markdown",
   "metadata": {},
   "source": [
    "### Excercise 1:\n",
    "\n",
    "Now what would be some tips that you'd provide to this individual?\n",
    "\n",
    "_Please answer in the cell below (or e.g. in your notetaking app)_"
   ]
  },
  {
   "cell_type": "code",
   "execution_count": null,
   "metadata": {},
   "outputs": [],
   "source": []
  },
  {
   "cell_type": "markdown",
   "metadata": {},
   "source": [
    "### Excercise 2:\n",
    "\n",
    "Now let's further evaluate your google search behavior. For this we'll have you briefly jot down how you would normally approach using google to search for **something** in the field below. You could e.g. mention search strategies, your use of search operators, if you'd go with sparse or ver specific prompts etc..\n",
    "\n",
    "\n",
    "_Remember that this is a self-study course, so just be open and honest. This will later on allow you to look bakc on these materials and evaluate how far you've come or how much you already knew!_"
   ]
  },
  {
   "cell_type": "code",
   "execution_count": null,
   "metadata": {},
   "outputs": [],
   "source": []
  },
  {
   "cell_type": "markdown",
   "metadata": {},
   "source": []
  },
  {
   "cell_type": "markdown",
   "metadata": {},
   "source": [
    "### Example Skill: How to google effectively\n",
    "\n",
    "Now let's explore some simple tips to better understand how to effectively search for somethning using google. This list is of course not extensive and all encompassing, so check-out the additional material at the end of the lesson, if you really want to up your search game!\n",
    "\n",
    "1. query formation (use central key words and specifiers)\n",
    "2. use search operators (https://www.google.ca/advanced_search makes your life easier)\n",
    "3. change the search location and language (settings -> search settings -> region settings)\n",
    "4. Don't use biased questions\n",
    "\n",
    "\n"
   ]
  },
  {
   "cell_type": "markdown",
   "metadata": {},
   "source": [
    "### 1.query formation: \n",
    "\n",
    "In general, keep in mind that:\n",
    "- Every word matters\n",
    "    - try searching for:\n",
    "        - star\n",
    "        - star wars\n",
    "        - star wars novel\n",
    "        \n",
    "\n",
    "- order matters:\n",
    "    - `war stars novel` vs `star wars novel`\n",
    "    \n",
    "- punctuation matters:\n",
    "    - google `red, delicious apple` vs `red delicious apple`\n",
    "    \n",
    "\n",
    "Use a basic search strategy\n",
    "- take a stepping stone approach -> become increasingly more specfic by successively including search terms, but amke sure they are relevant inclusions\n",
    "\n",
    "- incopoprate search operatores as demonstrated in the next part\n",
    "\n",
    "\n"
   ]
  },
  {
   "cell_type": "markdown",
   "metadata": {},
   "source": [
    "### 2. use search operators \n",
    "\n",
    "- exact matches? put key word in quotation marks `\"Key word\"`\n",
    "- exclude something from a search -> add a minus sign before the key word you're excluding -> `- Key word`\n",
    "- Combine search terms with `OR, AND` logic\n",
    "    - should a match necessarily include eboth terms use AND\n",
    "        - e.g. square AND green\n",
    "    - should a match necessarily only include one term but not the other use OR\n",
    "        - e.g. square OR green\n",
    "- specify time-frames using `AFTER:`, `BEFORE:` or between `..`\n",
    "\n",
    "\n",
    "- use the UI to make your life easier -> https://www.google.ca/advanced_search\n",
    "- and chekout this [guide](https://www.googleguide.com/advanced_operators_reference.html) for a truly extensive list of all search operators and how to apply them"
   ]
  },
  {
   "cell_type": "markdown",
   "metadata": {},
   "source": [
    "### 3. change the search location and language (settings -> search settings -> region settings)\n",
    "\n",
    "searching for a specific german or english term? "
   ]
  },
  {
   "cell_type": "markdown",
   "metadata": {},
   "source": [
    "### 4. Don't use biased questions\n",
    "\n",
    "If you ever had to settle an argument you might have encountered this:\n",
    "    - Person A. googles -> has stress negative effects\n",
    "    - Person B. googles -> has stress positive effects\n",
    "\n",
    "Now what's the \"ground truth\"?\n",
    "\n",
    "Let's use a neutral approach like:\n",
    "\n",
    "- pros and cons of stress\n",
    "- effects of stress\n"
   ]
  },
  {
   "cell_type": "markdown",
   "metadata": {},
   "source": [
    "### Excercise 3\n",
    "\n",
    "Google search the following X, make sure to exclude X and look for pdf files only!\n",
    "Answer in the cell below"
   ]
  },
  {
   "cell_type": "code",
   "execution_count": null,
   "metadata": {},
   "outputs": [],
   "source": [
    "\n"
   ]
  },
  {
   "cell_type": "markdown",
   "metadata": {},
   "source": [
    "### Digital literacy, Google Search and Sciene?\n",
    "\n",
    "Now how learning to better your \"googling\" skills relates to digital literac is rather straightforward, but let's put the skill behind \"googling\" into perspective. \n",
    "\n",
    "A basic research workflow looks a lot like the basic google search strategy people may apply. \n",
    "Imagine looking for a new restaurant in your city to introduce a friend to your favourite kind of cuisine.\n",
    "\n",
    "The steps could look something like this:\n",
    "\n",
    "**1.Task Identification**\n",
    "- require information on \"Where\", \"What\", \"When\", \"How expensive\"\n",
    "\n",
    "\n",
    "**2. Identify, locate and evaluate Sources** \n",
    "- google, bing, duck duck go?\n",
    "- query formation?\n",
    "\n",
    "**3. Aquire information**\n",
    "- look at some of the search results\n",
    "\n",
    "**4. Analysis**\n",
    "- what's the \"best\" restaurant regarding e.g. price, location and opening hours\n",
    "\n",
    "**5. communicate results**\n",
    "- text your friend what you've found out\n",
    "\n",
    "**6. Evaluate Process and results**\n",
    "- do search results suffice, are all questions answered? i.e is your friend not satisfied or you couldn't come to an agreement? Start back at **1.** and re-evaluate your task and query formation!\n",
    "\n"
   ]
  },
  {
   "cell_type": "markdown",
   "metadata": {},
   "source": [
    "### Conclusion\n",
    "\n",
    "So with or without you explicit knowledge you've been doing research all along! Now there are of course practices and \"rules\" to doing \"proper\" research, such as actually evaluating the qulaity and veracity of your sources. So, in future sessions we will be teaching you how to master each of these steps and which open source tools you may implement in your research. As a result you'll have an approximate understanding of what this following illustration is meant to communicate:\n",
    " \n",
    " diler science process.png\n",
    "https://docs.google.com/presentation/d/1u02jYK_XFDihlW1DQbxgxgyvApHkpqESy9amBl2Yul4/edit#slide=id.g18ce4953158_0_229\n"
   ]
  },
  {
   "cell_type": "markdown",
   "metadata": {},
   "source": [
    "### Additional materials\n",
    "\n",
    "\n",
    "For more in-depth guides check-out the bible for everything google search:\n",
    "    \n",
    "   [Google education:  Power Searching with Google](https://coursebuilder.withgoogle.com/sample/course)\n",
    "        \n",
    "        \n",
    "and the following video on how DR.Russel arrived at those straegies and how people \"search\":\n",
    "   \n",
    "   [The Joy of Search: Augmenting Intelligence By Teaching People How to Search](https://www.youtube.com/watch?v=HxuRA3_b2iw)\n",
    "        \n",
    "    "
   ]
  },
  {
   "cell_type": "markdown",
   "metadata": {
    "slideshow": {
     "slide_type": "subslide"
    }
   },
   "source": [
    "### Where are we now?\n",
    "\n",
    "Follow along in this questionnaire to evaluate if and how your understanding of the concept of digital literacy has changed following this lecture."
   ]
  },
  {
   "cell_type": "markdown",
   "metadata": {},
   "source": [
    "End of lecture questionnaire:\n",
    "    \n",
    "    \n",
    "Please take a moment to evaluate the following aspects of the training session/lecture:\n",
    "\n",
    "**5.1)** How well informed we're you with regard to the current topic? (i.e.,\n",
    "did you know what was expecting you?)\n",
    "\n",
    "| **no, not at all** |     |     |     |     |     | **yes, entirely** |\n",
    "|:------------------:|-----|-----|-----|-----|-----|:-----------------:|\n",
    "| (1)                | (2) | (3) | (4) | (5) | (6) | (7)               |\n",
    "\n",
    "\n",
    "Having heard about *<topic_of_interest>*,\n",
    "\n",
    "\n",
    "**5.2)** How well informed would you consider yourself on the topic?\n",
    "\n",
    "| **not at all informed** |     |     |     |     |     | **very informed** |\n",
    "|:------------------:|-----|-----|-----|-----|-----|:-----------------:|\n",
    "| (1)                | (2) | (3) | (4) | (5) | (6) | (7)               |\n",
    "\n",
    "\n",
    "\n",
    "**5.x)** Do you feel like we've fulfilled Goal 1?)\n",
    "\n",
    "| **no, not at all** |     |     |     |     |     | **yes, entirely** |\n",
    "|:------------------:|-----|-----|-----|-----|-----|:-----------------:|\n",
    "| (1)                | (2) | (3) | (4) | (5) | (6) | (7)               |\n",
    "\n",
    "\n",
    "**5.x)** Do you feel like we've fulfilled Goal 2?)\n",
    "\n",
    "| **no, not at all** |     |     |     |     |     | **yes, entirely** |\n",
    "|:------------------:|-----|-----|-----|-----|-----|:-----------------:|\n",
    "| (1)                | (2) | (3) | (4) | (5) | (6) | (7)               |\n",
    "\n",
    "\n",
    "**5.x)** Do you feel like we've fulfilled Goal 3?)\n",
    "\n",
    "| **no, not at all** |     |     |     |     |     | **yes, entirely** |\n",
    "|:------------------:|-----|-----|-----|-----|-----|:-----------------:|\n",
    "| (1)                | (2) | (3) | (4) | (5) | (6) | (7)               |\n",
    "\n",
    "\n",
    "**5.x)** Do you feel like we've fulfilled Goal 4?)\n",
    "\n",
    "| **no, not at all** |     |     |     |     |     | **yes, entirely** |\n",
    "|:------------------:|-----|-----|-----|-----|-----|:-----------------:|\n",
    "| (1)                | (2) | (3) | (4) | (5) | (6) | (7)               |\n",
    "\n",
    "\n",
    "**5.x)** Do you feel like we've fulfilled Goal 5?)\n",
    "\n",
    "| **no, not at all** |     |     |     |     |     | **yes, entirely** |\n",
    "|:------------------:|-----|-----|-----|-----|-----|:-----------------:|\n",
    "| (1)                | (2) | (3) | (4) | (5) | (6) | (7)               |\n",
    "\n",
    "\n",
    "\n",
    "**5.4)** What was the most challenging part of the training/lecture?\n",
    "Did something in particular helped you master these challenges? Did you\n",
    "miss anything that might have helped you overcome these issues? If you\n",
    "didn't experience any difficulties, please write down what the most \n",
    "helpful/insightful part of the training/lecture was for you (< 100 words):\n",
    "\n",
    "| **(free text)** |\n",
    "|:---------------:|\n",
    "\n",
    "\n",
    "**5.5)** What was the most surprising part of the training/lecture for you? What information in particular stood out to you? \n",
    "\n",
    "| **(free text)** |\n",
    "|:---------------:|"
   ]
  },
  {
   "cell_type": "markdown",
   "metadata": {},
   "source": [
    "### Next session\n",
    "\n",
    "Please indicate how well prepared you feel to take on the following topic of **XXX**.\n",
    "\n",
    "Use the following scale to answer: no, not at all (1) - yes, entirely (7)\n",
    "\n",
    "**5.3)** How well prepared do you feel to perform *<topic_of_interest>*?\n",
    "\n",
    "| **no, not at all** |     |     |     |     |     | **yes, entirely** |\n",
    "|:------------------:|-----|-----|-----|-----|-----|:-----------------:|\n",
    "| (1)                | (2) | (3) | (4) | (5) | (6) | (7)               |\n",
    "\n",
    "\n",
    "**5.2)** At this stage, how interested are you in the subject of *<topic_of_interest>*?\n",
    "\n",
    "| **not at all interested?** |     |     |     |     |     | **very interested** |\n",
    "|:------------------:|-----|-----|-----|-----|-----|:-----------------:|\n",
    "| (1)                | (2) | (3) | (4) | (5) | (6) | (7)               |  \n"
   ]
  },
  {
   "cell_type": "markdown",
   "metadata": {
    "slideshow": {
     "slide_type": "slide"
    }
   },
   "source": [
    "## References\n",
    "\n",
    "\n",
    "Gilster, P., & Glister, P. (1997). Digital literacy (p. 1). New York: Wiley Computer Pub.\n",
    "\n",
    "Shapiro, H. (2009) Supporting Digital Literacy: Public Policies and Stakeholder Initiatives. Final Report: Topic\n",
    "Report 4: Conclusions and recommendations based on reviews and findings. Danish Technological Institute.\n",
    "\n",
    "Bawden, D. (2008). Origins and concepts of digital literacy. Digital literacies: Concepts, policies and practices, 30(2008), 17-32.\n",
    "\n",
    "Stergioulas, L.K. (2006) The pursuit of digital literacy and e-inclusion in schools: curriculum development and\n",
    "teacher education. E-start presentation."
   ]
  },
  {
   "cell_type": "markdown",
   "metadata": {},
   "source": [
    "## TLDR\n",
    "\n",
    "We've learned about\n",
    "\n",
    "- digital literacy, definition and components\n",
    "- it's ethical implication and why we should care\n",
    "- how to better use google and how this relates to research workflows"
   ]
  },
  {
   "cell_type": "code",
   "execution_count": null,
   "metadata": {},
   "outputs": [],
   "source": [
    "ToDo\n",
    "\n",
    "flesh out definition/importance/ethics and motivation\n",
    "Science processs notebook\n",
    "More excercises\n",
    "break reminders\n",
    "give short examples of the 4 topics\n",
    "\n",
    "incorporate list of external ressources into respective 4 sections\n",
    "\n",
    "add particulars to setup on why and for what we install software\n",
    "\n",
    "\n",
    "communication & outreach:\n",
    "    github for projects, lab-notebooks\n",
    "\n",
    "general introduction and embedding of advanced content\n",
    "\n",
    "incorporate\n",
    "\n",
    "- https://core.ac.uk/download/pdf/303779381.pdf\n",
    "- file:///home/michael/Downloads/Digital_Literacies_Concepts_Policies_and.pdf\n",
    "- digital development for students/academics\n",
    "    - https://www.ed.ac.uk/institute-academic-development/study-hub/learning-resources/digital"
   ]
  }
 ],
 "metadata": {
  "celltoolbar": "Slideshow",
  "kernelspec": {
   "display_name": "Python 3 (ipykernel)",
   "language": "python",
   "name": "python3"
  },
  "language_info": {
   "codemirror_mode": {
    "name": "ipython",
    "version": 3
   },
   "file_extension": ".py",
   "mimetype": "text/x-python",
   "name": "python",
   "nbconvert_exporter": "python",
   "pygments_lexer": "ipython3",
   "version": "3.7.6"
  },
  "rise": {
   "scroll": "true"
  }
 },
 "nbformat": 4,
 "nbformat_minor": 2
}
