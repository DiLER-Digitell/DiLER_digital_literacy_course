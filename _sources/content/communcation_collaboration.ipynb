{
 "cells": [
  {
   "attachments": {},
   "cell_type": "markdown",
   "id": "8f813b60",
   "metadata": {},
   "source": [
    "### Communication and Collaboration in Modern Science"
   ]
  },
  {
   "attachments": {},
   "cell_type": "markdown",
   "id": "ee214c75",
   "metadata": {},
   "source": [
    "#### Beyond publication: research dissemination & communication\n",
    "\n",
    "`Conducting research is only half the battle` - it's equally important to effectively disseminate and communicate the findings to the relevant stakeholders. Dissemination refers to the process of making research findings available to the wider audience, while communication involves effectively conveying the research results to the target audience.\n",
    "\n",
    "Dissemination and communication are important for ensuring that research findings are utilized by the relevant stakeholders, including policymakers, practitioners, and the public. Effective dissemination and communication can help to increase the impact of the research, promote evidence-based decision-making, and ultimately improve the lives of individuals and communities.\n",
    "\n",
    "<iframe src=\"https://giphy.com/embed/OijlHruJk544wGchMP\" width=\"480\" height=\"480\" frameBorder=\"0\" class=\"giphy-embed\" allowFullScreen></iframe><p><a href=\"https://giphy.com/gifs/communication-connect-collaboration-OijlHruJk544wGchMP\">via GIPHY</a></p>\n"
   ]
  },
  {
   "attachments": {},
   "cell_type": "markdown",
   "id": "d54184ab",
   "metadata": {},
   "source": [
    "### Where are we now?\n",
    "\n",
    "Before we start a lesson it is usually helpful to reflect on what we already know about a certain topic or e.g. what a lesson may possibly try to teach us.\n",
    "\n",
    "So please take a few minutes to reflect on the topic Communication and Collaboration in Modern Science with the following questions.\n",
    "\n",
    "\n",
    "**1.1 How well informed do you feel with regard to the current topic?**\n",
    "\n",
    "**1.2 Why could diving deeper in Communication and Collaboration be important?**\n",
    "\n",
    "```{note}\n",
    "Feel free to do this in your head or in a separate document. Remember, to interactively engage with the material either open it in MyBinder (the small rocket button at the top of the website) or [download the course material](link to course zip), go through the [setup process](link to setup) and open this file (i.e digital_literacy.ipynb in the introduction folder) using Jupyter Notebooks or VScode.\n",
    "```\n"
   ]
  },
  {
   "attachments": {},
   "cell_type": "markdown",
   "id": "8a747e63",
   "metadata": {
    "slideshow": {
     "slide_type": "slide"
    }
   },
   "source": [
    "#### Objectives 📍\n",
    "\n",
    "In this part of the lecture we will go over the essentials of `Communication and Collaboration`, both integral parts to the scientific process (and of course also outside of science).\n",
    "Specific goals of this part will be to:\n",
    "\n",
    "- Learn about how to effectively `collaborate digitally`\n",
    "- what `living documents` are and how Jupyter Book can be a valuable tool for `digital storytelling`\n",
    "- How to `visualize Data`\n",
    "- How to `sciencific findings` are communicated\n",
    "- How to `connect and reach-out` to other researchers"
   ]
  },
  {
   "attachments": {},
   "cell_type": "markdown",
   "id": "db8801dc",
   "metadata": {},
   "source": [
    "## Roadmap\n",
    "- Digital Collaboration\n",
    "- Digital Storytelling\n",
    "    - Creating content using Jupyter Books\n",
    "    - Hosting content using Github and Github pages\n",
    "- Data visualization\n",
    "- Science communication: Publication and Beyond\n",
    "- Networks & outreach\n"
   ]
  },
  {
   "attachments": {},
   "cell_type": "markdown",
   "id": "6aa42d5a",
   "metadata": {},
   "source": [
    "## Motivation\n",
    "\n",
    "Collaboration allows researchers to work together to address complex problems and `leverage each other's expertise, resources, and ideas`. Communication, on the other hand, facilitates the sharing of research findings with the `wider community` and ensures that the research is relevant and impactful.\n",
    "\n",
    "**Effective collaboration** requires open `communication`, `trust`, and `mutual respect` among the research team members. Collaborating with other researchers, organizations, or communities can lead to more innovative and comprehensive research outcomes that address real-world problems. Collaboration can also increase the impact of research by reaching a wider audience, promoting knowledge exchange, and increasing the potential for policy and practice change.\n",
    "\n",
    "**Communication** is important in research to ensure that the findings are `understandable` and useful to the target audience. Researchers must `communicate their findings` in a `clear and concise manner` using appropriate language and visuals to ensure that the results are accessible to policymakers, practitioners, and the general public. Effective communication can help to increase the impact of research by promoting evidence-based decision-making, informing public opinion, and influencing policy.\n",
    "\n",
    "There are several avenues for collaboration and communication in research, including `conferences, seminars, workshops, and social media platforms`. These platforms provide opportunities for researchers to share their work, engage with other researchers, and collaborate on new projects.\n",
    "\n",
    "Motivation is an essential factor in `promoting collaboration` and communication in research. Researchers should be motivated by a shared interest in the research topic and a desire to contribute to knowledge creation and problem-solving. Motivation can be enhanced by providing opportunities for researchers to engage in meaningful collaborations, providing incentives such as funding or recognition, and creating a supportive research environment that encourages open communication and collaboration.\n",
    "\n",
    "\n",
    "\n",
    "\n",
    "<img align=\"center\" src=\"https://oreoni.github.io/_images/fig5.png\" alt=\"logo\" title=\"jupyter\" width=\"500\" /> \n",
    "\n"
   ]
  },
  {
   "attachments": {},
   "cell_type": "markdown",
   "id": "22f1d558",
   "metadata": {},
   "source": [
    "### Where are we now?\n",
    "\n",
    "Please take a moment to reflect on if and how your understanding of the concept of digital literacy has possibly changed following this lecture.\n",
    "\n",
    "**2.1 How well informed we're you with regard to the current topic? (i.e.,\n",
    "did you know what was expecting you?)**\n",
    "\n",
    "**2.2 What was the most surprising part of the training/lecture for you? What information in particular stood out to you?**\n",
    "\n",
    "**2.3 What was one of the mentioned reasons on why you should care about digital literacy that seemed especially important to you?**\n",
    "\n",
    "**2.4 Could you think of other impacts that a better understanding of digital literacy may have on your life?**\n",
    "\n",
    "\n",
    "```{note}\n",
    "Feel free to do this in your head or in a separate document. Remember, to interactively engage with the material either open it in MyBinder (the small rocket button at the top of the website) or [download the course material](link to course zip), go through the [setup process](link to setup) and open this file (i.e digital_literacy.ipynb in the introduction folder) using Jupyter Notebooks or VScode.\n",
    "```"
   ]
  },
  {
   "attachments": {},
   "cell_type": "markdown",
   "id": "c66820e6",
   "metadata": {},
   "source": [
    "### Homework, Excercises and ressources\n",
    "\n",
    "    - find 3 local Researchers whose work could be of interest of you, follow them on OSF and ReserachGate\n",
    "    - request paper access via ReserachGate\n",
    "    - follow 1 Scientist on GitHub\n"
   ]
  }
 ],
 "metadata": {
  "kernelspec": {
   "display_name": "Python 3 (ipykernel)",
   "language": "python",
   "name": "python3"
  },
  "language_info": {
   "codemirror_mode": {
    "name": "ipython",
    "version": 3
   },
   "file_extension": ".py",
   "mimetype": "text/x-python",
   "name": "python",
   "nbconvert_exporter": "python",
   "pygments_lexer": "ipython3",
   "version": "3.7.6"
  },
  "vscode": {
   "interpreter": {
    "hash": "5289083c3f5abe312d701549a23d918d5df8d2bf6b85b22b433ed91977547b08"
   }
  }
 },
 "nbformat": 4,
 "nbformat_minor": 5
}
