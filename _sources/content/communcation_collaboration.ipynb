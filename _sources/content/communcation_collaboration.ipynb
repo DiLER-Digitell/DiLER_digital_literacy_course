{
 "cells": [
  {
   "cell_type": "markdown",
   "id": "8f813b60",
   "metadata": {},
   "source": [
    "# Communication and Collaboration in Modern Science\n",
    "\n",
    "\n",
    "````{margin}\n",
    "```{warning}\n",
    "These pages are currently under construction and will be updated continuously.\n",
    "Please visit these pages again in the next few weeks for further information.\n",
    "````"
   ]
  },
  {
   "cell_type": "markdown",
   "id": "ee214c75",
   "metadata": {},
   "source": [
    "\n",
    "--------------------------\n",
    "\n",
    "## Beyond publication: research dissemination & communication\n",
    "\n",
    "\n",
    "`Conducting research is only half the battle` - it's equally important to effectively disseminate and communicate the findings to the relevant stakeholders. Dissemination refers to the process of making research findings available to the wider audience, while communication involves effectively conveying the research results to the target audience.\n",
    "\n",
    "Dissemination and communication are important for ensuring that research findings are utilized by the relevant stakeholders, including policymakers, practitioners, and the public. Effective dissemination and communication can help to increase the impact of the research, promote evidence-based decision-making, and ultimately improve the lives of individuals and communities.\n",
    "\n",
    "\n",
    "--------------------------------\n",
    "\n",
    "<iframe src=\"https://giphy.com/embed/OijlHruJk544wGchMP\" width=\"480\" height=\"480\" frameBorder=\"0\" class=\"giphy-embed\" allowFullScreen></iframe><p><a href=\"https://giphy.com/gifs/communication-connect-collaboration-OijlHruJk544wGchMP\">via GIPHY</a></p>\n"
   ]
  },
  {
   "cell_type": "markdown",
   "id": "8a747e63",
   "metadata": {
    "slideshow": {
     "slide_type": "slide"
    }
   },
   "source": [
    "## Goals\n",
    "\n",
    "In this part of the lecture we will go over the essentials of `Communication and Collaboration`, both integral parts to the scientific process (and of course also outside of science).\n",
    "Specific goals of this part will be to:\n",
    "\n",
    "- Learn about how to effectively `collaborate digitally`\n",
    "- what `living documents` are and how Jupyter Book can be a valuable tool for `digital storytelling`\n",
    "- How to `visualize Data`\n",
    "- How to `sciencific findings` are communicated\n",
    "- How to `connect and reach-out` to other researchers"
   ]
  },
  {
   "cell_type": "markdown",
   "id": "6aa42d5a",
   "metadata": {},
   "source": [
    "## Motivation\n",
    "\n",
    "Collaboration allows researchers to work together to address complex problems and `leverage each other's expertise, resources, and ideas`. Communication, on the other hand, facilitates the sharing of research findings with the `wider community` and ensures that the research is relevant and impactful.\n",
    "\n",
    "**Effective collaboration** requires open `communication`, `trust`, and `mutual respect` among the research team members. Collaborating with other researchers, organizations, or communities can lead to more innovative and comprehensive research outcomes that address real-world problems. Collaboration can also increase the impact of research by reaching a wider audience, promoting knowledge exchange, and increasing the potential for policy and practice change.\n",
    "\n",
    "**Communication** is important in research to ensure that the findings are `understandable` and useful to the target audience. Researchers must `communicate their findings` in a `clear and concise manner` using appropriate language and visuals to ensure that the results are accessible to policymakers, practitioners, and the general public. Effective communication can help to increase the impact of research by promoting evidence-based decision-making, informing public opinion, and influencing policy.\n",
    "\n",
    "There are several avenues for collaboration and communication in research, including `conferences, seminars, workshops, and social media platforms`. These platforms provide opportunities for researchers to share their work, engage with other researchers, and collaborate on new projects.\n",
    "\n",
    "Motivation is an essential factor in `promoting collaboration` and communication in research. Researchers should be motivated by a shared interest in the research topic and a desire to contribute to knowledge creation and problem-solving. Motivation can be enhanced by providing opportunities for researchers to engage in meaningful collaborations, providing incentives such as funding or recognition, and creating a supportive research environment that encourages open communication and collaboration.\n",
    "\n",
    "\n"
   ]
  },
  {
   "cell_type": "markdown",
   "id": "db8801dc",
   "metadata": {},
   "source": [
    "## Roadmap\n",
    "\n",
    "\n",
    "- Digital Collaboration\n",
    "- Digital Storytelling\n",
    "    - Creating content using Jupyter Books\n",
    "    - Hosting content using Github and Github pages\n",
    "- Data visualization\n",
    "- Science communication: Publication and Beyond\n",
    "- Networks & outreach\n"
   ]
  }
 ],
 "metadata": {
  "kernelspec": {
   "display_name": "Python 3 (ipykernel)",
   "language": "python",
   "name": "python3"
  },
  "language_info": {
   "codemirror_mode": {
    "name": "ipython",
    "version": 3
   },
   "file_extension": ".py",
   "mimetype": "text/x-python",
   "name": "python",
   "nbconvert_exporter": "python",
   "pygments_lexer": "ipython3",
   "version": "3.7.6"
  },
  "vscode": {
   "interpreter": {
    "hash": "5289083c3f5abe312d701549a23d918d5df8d2bf6b85b22b433ed91977547b08"
   }
  }
 },
 "nbformat": 4,
 "nbformat_minor": 5
}
