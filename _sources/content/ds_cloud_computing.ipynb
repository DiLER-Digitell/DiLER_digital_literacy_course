{
 "cells": [
  {
   "cell_type": "markdown",
   "id": "c5411f36",
   "metadata": {},
   "source": [
    "### Cloud Computing\n",
    "\n",
    "````{margin}\n",
    "```{warning}\n",
    "These pages are currently under construction and will be updated continuously.\n",
    "Please visit these pages again in the next few weeks for further information.\n",
    "````\n",
    "\n",
    "---------------------------------\n",
    "\n",
    ">Using & developing scalable and flexible computing systems that can be delivered as services over the internet.\n",
    "\n",
    "\n",
    "-----------------------------------------------"
   ]
  },
  {
   "cell_type": "markdown",
   "id": "11381974",
   "metadata": {},
   "source": [
    "\n",
    "\n",
    "**Cloud computing** has revolutionized the way we `access`, `store` and `process data`. Gone are the days when accessing a centralized server using SSH was the norm, well outside of academia, big tech firms and the range of the german , that is. Today, cloud computing services offer a `wide range of options` for individuals and organizations to store, process and analyze data in a scalable and cost-effective manner. \n",
    "\n",
    "--------------------------------------------------\n",
    "\n",
    "In this module, we will take a dive into the world of cloud computing, exploring both classic approaches such as `accessing a server using SSH`, as well as newer approaches such as `cloud computing services suitable for research`. \n",
    "\n",
    "**In short, this chapter will provide a comprehensive overview of the cloud computing landscape and what you might encounter.**"
   ]
  },
  {
   "cell_type": "markdown",
   "id": "43c7d598",
   "metadata": {},
   "source": [
    "## Roadmap\n",
    "- Cloud computing & SSH\n",
    "- Quick Tutorial on SSH\n",
    "- Textbased Adventure introducing the Terminal\n",
    "- Introduction to brainlife.io\n",
    "\n"
   ]
  },
  {
   "cell_type": "markdown",
   "id": "b2d5dc51",
   "metadata": {},
   "source": [
    "\n",
    "\n",
    "## Cloud computing & SSH\n",
    "\n",
    "SSH (Secure Shell) is a secure protocol used to remotely access and manage computer systems over an unsecured network. Or simpler it provides a user access to a remote computer or computer systems, by defining a set of rules and procedures for transmitting data between computers.\n",
    "It uses encryption protocols to protect sensitive information exchanged between devices, making it a secure way to access remote servers and devices. SSH is therefore commonly used by organizations or insitutions to access or analyse sensitive data. \n",
    "\n",
    "In academia or clinical insitutions, e.g. in neuroscience research, you may encounter SSH as a means to log in to a remote server and execute commands, transfer large files, or perform analysis that a regular computer could not handle or that would be incredibly time comsuming.\n",
    "\n",
    "----------------------------------"
   ]
  },
  {
   "cell_type": "markdown",
   "id": "e4983a8b",
   "metadata": {},
   "source": [
    "\n",
    "### Quick Tutorial on SSH\n",
    "</br>\n",
    "\n",
    "If your work requires you to work with SSH, you'll be usually introduced to the local IT support, that teaches you how to access their server systems and what permissable operations you might perform. Here is what you can expect from this interaction\n",
    "\n",
    "-------------------------------------\n",
    "\n",
    "1. Depending on your operating system you will either be installing a SSH client on your machine (e.g.  Solar-PuTTY for Windows), on MacOS and Linux you'll instead use the terminal. Normally you will provided access to a computer designated for that purpose using macOS/Linux\n",
    "\n",
    "---------------------------\n",
    "\n",
    "2. Next a public/private key pair for you local machine will be generated. This is used to authenticate your machine to the remote server. Think of it as a work ID that your computer gets assigned, which will be checked against a list of registered machines, when accessing the remote server. \n",
    "\n",
    "------------------------------------\n",
    "\n",
    "3. Now open the installed SSH client or terminal on your local machine and enter the following command\n",
    "   \n",
    "   `ssh <user>@<remote_server_IP>`\n",
    "    \n",
    "    (where user is your username on the remote server and remote_server_IP the IP address or hostname of the remote server. Both will most liekly be provided by the system administrator.)\n",
    "\n",
    "----------------------------\n",
    "\n",
    "4. You will be prompted to enter your password. Once you enter the correct password, you will be logged into the remote server over an encrypted SSH connection.\n",
    "\n",
    "---------------------------------------\n",
    "\n",
    "But you'll probably soon realize somethin shocking: `the lack of the GUI (Graphical User Interface`!\n",
    "As SSH is a service used for managing data in the most efficient way we're usually constrained to text-based communication with the machine. The most common language used for this purpose is called BASH (Bourne Again SHell). \n",
    "\n",
    "BASH (Bourne-Again SHell) is a widely used command-line interface (CLI) for Unix-based operating systems. If you open up a on your [macOS terminal](https://support.apple.com/guide/terminal/open-or-quit-terminal-apd5265185d-f365-44cb-8b09-71a064a42125/mac) or [Linux terminal](https://itsfoss.com/open-terminal-ubuntu/), you'll be able to use BASH commands to directly comunicate with your machine to do basic operations such as creating, deleting or moving files and directories, as well as runs more complicated automatization processes.\n",
    "\n",
    "For a deep dive on how to use BASH check-out this [Introduction to BASH](link to bash)"
   ]
  },
  {
   "cell_type": "markdown",
   "id": "aad152dc",
   "metadata": {},
   "source": [
    "### Neuroscience-specific Cloud Computing Service\n",
    "\n",
    "<!-- HTML Code -->\n",
    "<img src=\"https://i.ytimg.com/vi/JXKPRWwcPx8/maxresdefault.jpg\" alt=\"Brainlife Logo\" class=\"GeneratedImage\">\n",
    "\n",
    "**Brainlife** is a platform for `sharing`, `running`, and `reproducing neuroimaging  research`. Brainlife provides access to tools and pipelines created by the neuroimaging community to automate certain tasks such as preprocessing MRI data.\n",
    "\n",
    "Using Brainlife for MRI preprocessing would look something like this:\n",
    "\n",
    "1. `Create an account` on the Brainlife website (brainlife.io)\n",
    "2. Search for `MRI preprocessing tools` that meet your specific needs and requirements\n",
    "3. `Upload` your data\n",
    "4. `Launch` the selected tool or pipeline by specifying the input data and any necessary parameters\n",
    "5. Wait for the processing to complete and `view the results` on the platform\n",
    "6. `Download the processed data` for further analysis or visualization\n",
    "\n",
    "Note that the specific steps and details of using Brainlife for MRI preprocessing will depend on the tool or pipeline you choose, and it is advisable to consult the documentation and guidelines for that specific tool."
   ]
  },
  {
   "cell_type": "markdown",
   "id": "9b029032",
   "metadata": {},
   "source": [
    "#### Closing Words\n",
    "\n",
    "We hope this tutorial has provided you with a useful roadmap to explore cloud computing and SSH, learn how to use SSH effectively, engage in a fun text-based adventure that introduces the terminal, and discover the benefits of using brainlife.io for scientific research. Each of these topics can be daunting at first, but with practice and perseverance, you can become proficient in using these tools and platforms to achieve your goals."
   ]
  }
 ],
 "metadata": {
  "kernelspec": {
   "display_name": "Python 3 (ipykernel)",
   "language": "python",
   "name": "python3"
  },
  "language_info": {
   "codemirror_mode": {
    "name": "ipython",
    "version": 3
   },
   "file_extension": ".py",
   "mimetype": "text/x-python",
   "name": "python",
   "nbconvert_exporter": "python",
   "pygments_lexer": "ipython3",
   "version": "3.7.6"
  }
 },
 "nbformat": 4,
 "nbformat_minor": 5
}
