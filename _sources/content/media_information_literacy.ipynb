{
 "cells": [
  {
   "cell_type": "markdown",
   "id": "c650a2f8",
   "metadata": {},
   "source": [
    "# Information & media literacy: Introduction\n"
   ]
  },
  {
   "cell_type": "markdown",
   "id": "d900a1a8",
   "metadata": {},
   "source": [
    "</br>\n",
    "\n",
    "**Information & media literacy refers to the ability to access, evaluate, and use information and media in a critical and responsible manner**. \n",
    "\n",
    "It involves understanding `how information is produced, distributed, and consumed`, and being able to `identify credible sources and assess the quality of information`. In today's digital age, where information is easily accessible and widely available, it's crucial for individuals to have strong information and media literacy skills to navigate the vast amount of information and media available. This knowledge will not only help you make informed decisions but also help you effectively participate in the world of academia. In the following lessons, we will explore the fundamental concepts and skills of information & media literacy, helping you become a more informed and discerning user of digital information and media.\n",
    "\n",
    "---------------------------"
   ]
  },
  {
   "cell_type": "markdown",
   "id": "8682c131",
   "metadata": {},
   "source": [
    "In this chapter, we will dive into the topic of information & media literacy in academia, with a focus on exploring various strategies and tools to make your research more open, accessible, and reproducible. We will cover a wide range of topics including how to find and evaluate data and published research and literature review strategies. \n",
    "\n",
    "-----------------------------\n",
    "\n",
    "Additionally, we will delve into producing academic works, starting with the basic ideas behind project design/creation to documemting the research process, writing code and programming analyses/workflows, managing data and finally writing a scientific paper.\n",
    "\n",
    "----------------------------"
   ]
  },
  {
   "cell_type": "markdown",
   "id": "d5b3be1e",
   "metadata": {},
   "source": [
    "## But why are we taliking about this?\n",
    "\n",
    "Specificaly what will you gain?\n",
    "\n",
    "- A succinct understanding of the scientific process\n",
    "- Knowledge on how to organize, plan and conduct research\n",
    "- The ability to use free, cutting edge tools to make your research as efficient and reproducible as possible\n",
    "- An understanding of open science methods to promote accesibility and replicability/reproducibility in your sceintific work\n"
   ]
  },
  {
   "cell_type": "markdown",
   "id": "20bc3626",
   "metadata": {},
   "source": [
    "## Roadmap\n",
    "\n",
    "This chapter of our course consists of multiple sub-chapters. Starting out with project design, you will learn about the adavantages of how to strategically setup and plan your work to maximize it's scientificy impact.\n",
    "The following sub-chapters will provide in-depth information on the most important aspects of scientific resarch and introduce digital strategies and tools to turn you into a more efficient researcher.\n",
    "\n",
    "- [Project design/setup](https://m-earnest.github.io/diler_dgitial_literacy_course/content/project_design.html)\n",
    "- [Find and evaluate data sources, published research & Literature review strategies](https://m-earnest.github.io/diler_dgitial_literacy_course/content/lit_review.html)\n",
    "    - digital tools for liteature search and review: ResearchRabbit and more\n",
    "- [Scientific writing](#writing)\n",
    "    - Getting Started with Google Docs/Overleaf\n",
    "- [Documentation](#documentation)\n",
    "    - Creating/Maintaining a Lab-notbebook\n",
    "- [Data managment & storage](#datamanagemenrt)\n",
    "- [Version control using Git]()\n",
    "- [Online version control using GitHUB]()\n",
    "\n",
    "\n",
    "\n"
   ]
  }
 ],
 "metadata": {
  "kernelspec": {
   "display_name": "Python 3 (ipykernel)",
   "language": "python",
   "name": "python3"
  },
  "language_info": {
   "codemirror_mode": {
    "name": "ipython",
    "version": 3
   },
   "file_extension": ".py",
   "mimetype": "text/x-python",
   "name": "python",
   "nbconvert_exporter": "python",
   "pygments_lexer": "ipython3",
   "version": "3.7.6"
  },
  "vscode": {
   "interpreter": {
    "hash": "5289083c3f5abe312d701549a23d918d5df8d2bf6b85b22b433ed91977547b08"
   }
  }
 },
 "nbformat": 4,
 "nbformat_minor": 5
}
