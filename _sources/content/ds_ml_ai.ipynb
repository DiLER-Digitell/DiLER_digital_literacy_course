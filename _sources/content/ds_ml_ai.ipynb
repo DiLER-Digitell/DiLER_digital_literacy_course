{
 "cells": [
  {
   "attachments": {},
   "cell_type": "markdown",
   "id": "dfdeaeb3",
   "metadata": {},
   "source": [
    "## Machine Learning/AI: \n",
    "\n",
    "> Developing algorithms to enable digital systems to automatically learn and improve their performance over time.\n"
   ]
  },
  {
   "attachments": {},
   "cell_type": "markdown",
   "id": "1ae2b796",
   "metadata": {},
   "source": [
    "### Roadmap 📍\n",
    "\n",
    "- Goals\n",
    "- Introduction\n",
    "- The ML/AI Decision Tree\n",
    "- Deep dive: Applied ML/AI in neuroscience\n"
   ]
  },
  {
   "attachments": {},
   "cell_type": "markdown",
   "id": "a13498b5",
   "metadata": {},
   "source": [
    "\n",
    "### Artifical Intelligence (AI)\n",
    "\n",
    "`Artificial Intelligence (AI)` is a branch of computer science that deals with the creation of `intelligent machines` that work and react like humans. The goal of AI is to develop systems that can perform `tasks that typically require human intelligence`, such as `speech recognition`, `decision making`, `and problem solving`.\n",
    "\n",
    "In scientific research, AI has become an increasingly important tool for `analyzing large amounts of data` and making `predictions` and discoveries in a variety of fields, including biology, medicine, physics, and astronomy. AI algorithms can help scientists find patterns and relationships in data that would be difficult or impossible for humans to detect, leading to new insights and breakthroughs.\n",
    "\n",
    "The benefits of AI for scientific research include `increased accuracy`, `efficiency`, and the ability to `handle large amounts of data`. Additionally, AI can automate tedious and time-consuming tasks, `freeing up scientists` to focus on more high-level tasks. AI can also help make new discoveries and predictions that would not have been possible without it, leading to a better understanding of the world and faster progress in various fields.\n",
    "\n",
    "#### Strong vs. Weak Intelligence\n",
    "<div style=\"width:480px\"><iframe allow=\"fullscreen\" frameBorder=\"0\" height=\"360\" src=\"https://giphy.com/embed/AtemeKRsPRVESJ8zRq/video\" width=\"480\"></iframe><a href=\"https://giphy.com/channel/jlrreyes\" rel=\"noopener noreferrer\" style=\"clear:both;display:inline-block;height:36px;line-height:18px;margin:10px 0;padding:0 0 0 44px;position:relative\" target=\"_blank\"><img alt=\"\" src=\"https://media1.giphy.com/avatars/jlrreyes/bIKRgPMSjclu/80h.png\" style=\"height:36px;left:0;position:absolute;top:0;width:36px\"/><div style=\"font-size:16px;font-weight:bold\">Jonathan L Reyes</div><div style=\"font-size:14px;font-weight:normal\">@jlrreyes</div></a><p \n",
    "\n",
    "Not every AI is created equal. Generally, we differentiate two main types of AI: weak AI and strong AI.\n",
    "\n",
    "`Weak AI` (also known as narrow AI) is designed to `only perform specific tasks` of a limited scope. For example, a chatbot that helps customers with simple inquiries or a voice assistant that plays music on command. Weak AI is programmed to `respond to specific inputs in a predefined manner`, but it does `not possess the ability to learn` or reason beyond its programmed instructions.\n",
    "\n",
    "A `strong AI`, however, (also known as general AI or artificial general intelligence (AGI)) is designed to have `human-like cognitive abilities` such as `reasoning, learning, and problem-solving`. Strong AI is capable of performing a `wide range of tasks`, including those that it has not been specifically programmed for. In other words, it has the ability to learn and adapt on its own.\n",
    "\n",
    "While `weak AI` is currently the `most prevalent` form of AI, many experts believe that strong AI has the potential to significantly impact our society in the future. It could revolutionize fields such as healthcare, finance, and transportation by providing more accurate and efficient decision-making. \n",
    "\n",
    "\n",
    "#### Neural Networks\n",
    "\n",
    "The term `neural network` is often brought up once conversations about AI starts. But what are neural networks?\n",
    "\n",
    "<img src=\"https://upload.wikimedia.org/wikipedia/commons/9/99/Neural_network_example.svg\" alt=\"Illustration of a simple neural network\" width=\"400\">\n",
    "\n",
    "Neural networks are a type of machine learning algorithm `modeled after the structure and function of the human brain`. They are designed to `recognize complex patterns` and relationships in data, and to use that information to `make predictions or decisions`.\n",
    "\n",
    "At their core, neural networks consist of `layers of interconnected nodes`, called `neurons`, which are responsible for processing and transmitting information. Each neuron takes input data, applies a `mathematical transformation` to that data, and then passes the transformed data on to the next layer of neurons. This process continues until the final layer of neurons produces the network's output.\n",
    "\n",
    "This really is only the most basic description. Further down the line, we will go into more detail, however, we highly recommend [3Blue1Brown](https://www.youtube.com/@3blue1brown)'s introduction on what Neural Networks are for a more in-depth look into the topic! \n",
    "\n",
    "<iframe width=\"560\" height=\"315\" src=\"https://www.youtube.com/embed/aircAruvnKk\" title=\"YouTube video player\" frameborder=\"0\" allow=\"accelerometer; autoplay; clipboard-write; encrypted-media; gyroscope; picture-in-picture; web-share\" allowfullscreen></iframe>\n"
   ]
  },
  {
   "attachments": {},
   "cell_type": "markdown",
   "id": "567924e9",
   "metadata": {},
   "source": [
    "### Machine Learning\n",
    "\n",
    "`Machine learning` is a `subfield of artificial intelligence (AI)` that involves the `development of algorithms` that can `learn` from and make predictions or decisions based on data. The goal of machine learning is to allow computers the recognition of patterns, making predictions, or classifying data.\n",
    "\n",
    "The purpose of machine learning is to provide computers with the ability to `automatically improve their performance` on a given task by learning from experience, without being explicitly programmed to perform that task. This allows machines to make better decisions or predictions as they are exposed to more data and improve over time.\n",
    "\n",
    "Machine learning is `different from classical statistics` in that it focuses on the development of algorithms that can learn from data and make predictions, whereas classical statistics focuses on the use of statistical models to make inferences and predictions based on data. Additionally, classical statistics requires a priori knowledge of the relationships between variables and the distribution of data, whereas machine learning algorithms can discover these relationships and distributions on their own through training.\n",
    "\n",
    "<img src=\"https://upload.wikimedia.org/wikipedia/commons/1/1b/AI_hierarchy.svg\" alt=\"Illustration of the differences of AI, Deep Learning and Machine Learning\" width=\"396\">"
   ]
  },
  {
   "cell_type": "markdown",
   "id": "14b0b1a8",
   "metadata": {},
   "source": [
    "### The ML/AI Decision Tree\n",
    "\n",
    "- copy graph"
   ]
  },
  {
   "cell_type": "markdown",
   "id": "0cabb3e8",
   "metadata": {},
   "source": [
    "### Deep dive: Applied ML/AI in neuroscience\n",
    "\n",
    "In the following sub-chapters we will do a deep dive into the specifics of ML/AI, how to use them via Pyhon and how these techniques may be utilized for neuroscience!"
   ]
  }
 ],
 "metadata": {
  "kernelspec": {
   "display_name": "Python 3 (ipykernel)",
   "language": "python",
   "name": "python3"
  },
  "language_info": {
   "codemirror_mode": {
    "name": "ipython",
    "version": 3
   },
   "file_extension": ".py",
   "mimetype": "text/x-python",
   "name": "python",
   "nbconvert_exporter": "python",
   "pygments_lexer": "ipython3",
   "version": "3.7.6"
  }
 },
 "nbformat": 4,
 "nbformat_minor": 5
}
