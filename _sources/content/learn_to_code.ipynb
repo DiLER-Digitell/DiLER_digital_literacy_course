{
 "cells": [
  {
   "cell_type": "markdown",
   "id": "7caef1e6",
   "metadata": {},
   "source": [
    "### Learn to code\n",
    "- me & machine\n",
    "- path structures\n",
    "\n",
    "- translationsleistung\n",
    "\n",
    "- scripting?\n",
    "- how do i read/ work with online-tutorials "
   ]
  },
  {
   "cell_type": "markdown",
   "id": "f8317ed8",
   "metadata": {},
   "source": [
    "## You & your computer\n",
    "\n",
    "How do you interact with your computer? In general, you, as a user, provide some input that contains a task that your computer should perform in order to obtain a desired outcome. However, there are different ways you can approach this, each with advantages and disadvantages. More precisely this refers to the distinction between GUI (Graphical-User-Interface), CLI (Command-Line-Interface), IDEs (Integrated-development-environments). You'll probably be mostly familiar with GUIs, i.e. the \"windows\" a program provides functionality in (e.g. word, photoshop etc.). Command line interfaces on the other hand are purely text-based methods of interacting with your computer, requiring the knowledge of some kind of programming language and a bit of background knowledge on how to navigate the \"paths\" of your device. An integrated development environment (IDE) is a mixture of the two, helping people create software/code by putting all the tools they need in one place. Modern science relies on all of these approaches, often combining deidcated GUIs with basic CLI work.  \n",
    "\n",
    "Don't be discouraged if you've never heard about CLIs though. The main hurdles to utilize these for your work are mainly the inhibitory pschological barrier of not knowing where and how to start for most people and the need of an actual project to practice on.\n",
    "\n",
    "We'll try to deal with these hurdles as part of this session and also explore when and for what purposes you may want to rely on classical GUIs or switch to CLIs or IDEs. "
   ]
  },
  {
   "cell_type": "code",
   "execution_count": null,
   "id": "85883384",
   "metadata": {},
   "outputs": [],
   "source": []
  },
  {
   "cell_type": "code",
   "execution_count": null,
   "id": "a0a1f387",
   "metadata": {},
   "outputs": [],
   "source": []
  }
 ],
 "metadata": {
  "kernelspec": {
   "display_name": "Python 3 (ipykernel)",
   "language": "python",
   "name": "python3"
  },
  "language_info": {
   "codemirror_mode": {
    "name": "ipython",
    "version": 3
   },
   "file_extension": ".py",
   "mimetype": "text/x-python",
   "name": "python",
   "nbconvert_exporter": "python",
   "pygments_lexer": "ipython3",
   "version": "3.7.6"
  }
 },
 "nbformat": 4,
 "nbformat_minor": 5
}
