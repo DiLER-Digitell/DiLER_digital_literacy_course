{
 "cells": [
  {
   "attachments": {},
   "cell_type": "markdown",
   "metadata": {},
   "source": [
    "# Digital Collaboration\n",
    "\n",
    "\n",
    "\n",
    "The Covid-19 pandemic introduced many in academia to the `necessities of digital spaces`. Further, academia is often less of a centralized workplace than classic businesses and work often depends on researchers and colleagues in remote places due to international partnerships, scientific conferences or reserach visitaions. \n",
    "In a [previous lecture](), we talked about `Google Docs` as a tool for collaborative writing, the following part will list a number of digital tools that you can use for collaborative work and where to learn more.\n",
    "\n",
    "**Online Collaborative Writing** \n",
    "Working with others to produce collaborative writing projects, such as `Wikis`, `blogs`, and other `online writing platforms`. Shared Documents, e.g. using `Google docs` or `Overleaf` allow multiple users to edit and contribute to a single document or set of documents in real-time.\n",
    "\n",
    "Tutorials:\n",
    "- docs\n",
    "- overleaf\n",
    "\n",
    "**Virtual Meeting Platforms**\n",
    "`Discord`, `Google Meet`, and other platforms provide a way to have virtual meetings, video conferences, and webinars. They allow participants to share screens, chat, and organize wokrgroups.\n",
    "\n",
    "Tutorials:\n",
    "- discord\n",
    "\n",
    "**Project Management Software**\n",
    "Project management tools such as [Trello](https://trello.com/home), or `GitHub Projects` allows teams to plan, organize, and track work on shared projects. They provide a centralized place to store project information, set tasks and deadlines, and communicate with team members. \n",
    "\n",
    "Tutorials:\n",
    "- trello\n",
    "- [Github Projects Quickstart](https://docs.github.com/en/issues/planning-and-tracking-with-projects/learning-about-projects/about-projects)\n",
    "\n",
    "\n",
    "**Code Collaboration**\n",
    "[GitHub](https://github.com/), [GitLab](https://about.gitlab.com/), and [Google Colab](https://colab.research.google.com/) are code collaboration platforms that allow multiple developers to work on code together. They provide version control, code review, and collaboration features to make it easy for teams to work together on coding projects.\n",
    "\n",
    "Tutorials:\n",
    "- [Collaborative work using colab](https://aguaclara.github.io/aguaclara_tutorial/colab/colab-collaboration.html)\n",
    "\n",
    "\n",
    "#### The Allstar GitHub:\n",
    "\n",
    "GitHub has appeared multiple times in this course already and rightfully so: \n",
    "GitHub is the gold-standard tool in the tech and coding world. GitHub does it all from code collaboration, collaborative writing, project management, version control, but also code, file and data hosting. It can even be used to host your websites (like this website!) and allows others to engage and share your work, as well as leave comments regarding possible problems, solutions or improvements. \n",
    "\n",
    "A short guide on how to get started with Github can be found in the [respective chapter](link to github-tutorial). Or you can follow the [Introduction to Github from the turing way project](https://the-turing-way.netlify.app/collaboration/github-novice.html#cl-github-novice).\n",
    "\n"
   ]
  }
 ],
 "metadata": {
  "language_info": {
   "name": "python"
  },
  "orig_nbformat": 4
 },
 "nbformat": 4,
 "nbformat_minor": 2
}
