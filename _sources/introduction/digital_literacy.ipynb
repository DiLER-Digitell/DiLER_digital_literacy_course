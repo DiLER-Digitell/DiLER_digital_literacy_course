{
 "cells": [
  {
   "attachments": {},
   "cell_type": "markdown",
   "metadata": {
    "slideshow": {
     "slide_type": "slide"
    }
   },
   "source": [
    "# Introduction - Digital literacy\n",
    "\n",
    "\n",
    "\n",
    "\n",
    "\n",
    "This notebook serves as a general introduction. We'll get to know the concept of `digital literacy`, the `role of digital literacy in research`, the `motivation behind teaching/learning digital literacy` in academia as well as the `ethical and social implications of diigital literacy for the participation in academia and research`.\n",
    "\n",
    "---------------------"
   ]
  },
  {
   "attachments": {},
   "cell_type": "markdown",
   "metadata": {
    "slideshow": {
     "slide_type": "slide"
    }
   },
   "source": [
    "## Goals\n",
    "\n",
    "\n",
    "As explained, this course is designed to give you a comprehensive understanding of digital literacy and its various applications. \n",
    "\n",
    "The specific goals of this first session will be to\n",
    "\n",
    "* Understand the concept of digital literature\n",
    "* Understand why digital literacy is important\n",
    "* Understand the ethical and social implications of digital technologies and their meaning for academia and research\n",
    "* Gain information on how to build up your digital literacy\n"
   ]
  },
  {
   "attachments": {},
   "cell_type": "markdown",
   "metadata": {},
   "source": [
    "### Where are we now?\n",
    "\n",
    "Before starting a lesson, reflecting on what we already know about a topic or, e.g., what a class may try to teach us is usually helpful.\n",
    "\n",
    "So please take a few minutes to reflect on the concept of digital literacy with the following questions.\n",
    "\n",
    "\n",
    "**1.1 What do you think a good definition of digital literacy needs to contain?**\n",
    "\n",
    "**1.2 Can you imagine any reason why you should care about the concept of digital literacy?**\n",
    "\n",
    "**1.3 What may be exciting implications of digital literacy for a future career in science/academia?**\n",
    "\n",
    "\n",
    "\n",
    "_Note: Feel free to do this in your head or a separate document._\n"
   ]
  },
  {
   "attachments": {},
   "cell_type": "markdown",
   "metadata": {
    "slideshow": {
     "slide_type": "slide"
    }
   },
   "source": [
    "## What is \"Digital Literacy\"?\n",
    "\n",
    "A straightforward definition of digital literacy usually involves the ability to independently find, evaluate, communicate, and handle information from digital media (Shopova 2014).\n",
    "\n",
    "That the lack of digital literacy can limit social integration and personal growth, making it a crucial life skill to possess (Shapiro, 2009) was already true more than a decade ago, as more and more of our everyday life drifts into virtual spaces, it becomes an absolute necessity to be digitally literate. This is especially true for people in academia and research, as every step of our academic career and every step in the research process nowadays depends on finding, evaluating, and applying knowledge found online or on the application of digital tools.\n",
    "\n",
    "The importance of digital literacy is not to be underestimated as digital literacy in itself may be viewed simply as the current form of \"literacy per se\" in our culture - i.e., \"to read, write and otherwise deal with information using the technologies and formats of the time.\" (Bawden, 2008)\n",
    "\n",
    "Let's explore the idea behind this ability a bit more closely. There have been many different understandings of what it means to be digitally literate over the last decades, including its definition and correlated implications (Bawden, 2008). The discourse can roughly be categorized into two positions. \n",
    "\n",
    "One position holds that digital literacy is primarily concerned with skills that must be acquired to be seen as digitally literate. In contrast, the other has that digital literacy focuses on the \"cognitive and socio-emotional aspects of working in a digital environment.\"\n",
    "\n",
    "For this course, we're not only leaning into the idea of digital literacy as a competence or a generalizable ability, following the initial proposition of \"mastering ideas, not keystrokes\" by Paul Glister (1997), but we will demonstrate the underlying concepts, such as how to \"find or handle information\", by discussing specific tools and how to use them properly. Therefore, demonstrating how these concepts relate to acquiring and possibly mastering a skill will make scientific work much easier.\n",
    "\n",
    "\n",
    "----------------------------------------------\n",
    "\n",
    "As this course is primarily centered around scientific practice, we will not be dealing with essential topics such as \"What is this Internet?\", \"What's a meme?\" or \"How do I use social media?\". These concepts are nevertheless important to mention as they illustrate why digital literacy is such an important concept - the “participation gap” - between those who can and those who can't maneuver digital spaces and handle digital tools to get ahead in life. \n",
    "\n",
    "**The \"participation gap\" this course tries to bridge is based on the differences between those who can effectively use digital tools and information to do scientific work and those who may not have the necessary knowledge yet.**\n",
    "\n",
    "\n",
    "-----------------------------------------------\n"
   ]
  },
  {
   "attachments": {},
   "cell_type": "markdown",
   "metadata": {},
   "source": [
    "If you prefer a more extensive definition, here is the one provided by the [Leeds Beckett Universities Centre for Learning and Teaching (2014)](https://teachlearn.leedsbeckett.ac.uk/-/media/files/clt/clt_beckett_embedding_digital_literacy_icons.pdf) in reference to Sterigoulas (2006).\n",
    "\n",
    "\n",
    "Digital literacy is **\"the confident and critical use of information and digital technologies to enhance academic, personal and professional development.\"**\n",
    "\n",
    "Consisting of:\n",
    "\n",
    "- **Computer literacy**: the ability to identify, adopt, and use digital devices, applications, and services to fulfill activities and tasks, whether study, employment, or leisure-related.\n",
    "\n",
    "\n",
    "- **Information literacy**: the ability to find, access, evaluate, manipulate, re-use, synthesize, and record information while understanding authority issues, reliability, provenance, citation, and relevance in digitized resources.\n",
    "\n",
    "\n",
    "- **Media literacy**: including, for example, visual literacy, multimedia literacy: the ability to critically read and creatively produce professional communications in the most appropriate media.\n",
    "\n",
    "\n",
    "- **Communication and collaboration**: the ability to develop and engage in digital networks appropriate to the needs of the participants and context, using a range of digital communications tools and showing awareness of identity and reputation management.\n",
    "\n",
    "\n",
    "     \n",
    "- **Digital scholarship**: the ability to participate in academic and professional practices that depend on digital systems, including the use of virtual learning environments, open access repositories, resource discovery tools, and emergent technologies while demonstrating an awareness of the issues around content discovery, authority, reliability, provenance, license restrictions, adaption and repurposing of sources.\n",
    "\n",
    "\n",
    "\n",
    "- **Academic practice**: the ability to study and learn effectively in formal and informal technology-rich environments, including using digital tools to support critical thinking, academic writing, note taking, reference management, time and task management, assessing and attending to feedback in digital/digitized formats, and independent study using digital resources and learning materials.\n",
    "\n",
    "\n",
    "\n",
    "- **Professional development planning**: the ability to make informed decisions and achieve goals through the effective use of digital tools and media, which may include e-portfolios, professional online communication & collaboration tools, and networking facilities, demonstrating an awareness of identity and reputation management\n",
    "\n",
    "\n",
    "</br>\n",
    "</br>\n",
    "\n",
    "-----------------------------------\n",
    "\n",
    "Along those lines, with some distinctions, the  Joint Information Systems Committee [(JISC)](https://www.jisc.ac.uk/about) demonstrates the complexities of digital literacy in a [seven elements model](https://www.jisc.ac.uk/guides/developing-digital-literacies), \n",
    "\n",
    "\n",
    "\n",
    "\n",
    "\n",
    "</br>\n",
    "</br>\n",
    "</br>\n",
    "</br>\n",
    "\n",
    "**The following sessions will follow these distinctions, and we'll mainly concentrate on the topics of**\n",
    "\n",
    "\n",
    "   **- Information & Media Literacy**\n",
    "        - Find, evaluate, and manage information/data; read and produce academic works using digital media\n",
    "        - BASH, Github\n",
    "\n",
    "   **- Digital Scholarship/Academic practice**\n",
    "        - Research practices centered around digital systems\n",
    "\n",
    "   **- ICT (information and communication technology) literacy**\n",
    "        - Adopt and use digital tools/services\n",
    "        - Basic coding skills: Python\n",
    "        \n",
    "   **- Communication and Collaboration**\n",
    "        - Data Visualization, Outreach\n",
    "\n",
    "\n",
    "----------------------------\n"
   ]
  },
  {
   "attachments": {},
   "cell_type": "markdown",
   "metadata": {},
   "source": [
    "## Digital Literacy in Research\n",
    "\n",
    "Over the years, research has become increasingly more reliant on digital skills. Every step in a research project nowadays depends on some tool to make us more efficient and allow greater creativity/freedom in the questions we can ask/answer.\n",
    "\n",
    "The diagram below illustrates the different phases of a research project. Can you think of a specific tool or software you may use in each stage?\n",
    "\n",
    "<img align=\"center\" src=\"https://github.com/M-earnest/diler_dgitial_literacy_course/blob/main/lecture/static/diler-science_process.png?raw=true\" alt=\"logo\" title=\"jupyter\" width=\"900px\" /> \n",
    "\n",
    "* adapted from Peer Herholz, 2021\n",
    "-----------------------------------\n",
    "\n",
    "### Digital Tools in Research Workflows\n",
    "To further illustrate what knowledge you may need and what tools someone working in, e.g., psychology or neuroscience, dedicated to open source tools, may use in their research, check out the following. (Don't be discouraged if you've never heard about this stuff; that's why we're here after all, right? \n",
    "\n",
    "\n",
    "<img align=\"center\" src=\"https://github.com/M-earnest/diler_dgitial_literacy_course/blob/main/lecture/static/diler-open_science_process.png?raw=true\" alt=\"logo\" title=\"jupyter\" width=\"900px\"/> \n",
    "\n",
    "\n",
    "* adapted from Peer Herholz, 2021\n",
    "----------------------------------\n",
    "\n",
    "</br>\n",
    "\n",
    "**One critical component of digital literacy involves locating and evaluating information in digital spaces. So, let's evaluate how we arrived at these specific tools and how we would find information on the relevant theoretical knowledge necessary to master each of these research steps properly.**\n",
    "\n",
    "\n",
    "Our working group arrived at this selection of tools through years of experience working in neuroscience, collaboration, and some ethical considerations. \n",
    "\n",
    "`Relevant questions you could ask when looking for new software/tools to use are:.` \n",
    "- Are they free, or what are the costs involved?\n",
    "- What capabilities/functionalities do these tools bring to the table, and do they match your needs?\n",
    "- What prerequisites would one need to work with these tools, and how quickly can they be acquired?\n",
    "- Are they niche products, or is a larger community using these tools that may have already provided guides and tutorials or can answer questions on the tool and its usage (e.g., is the tool industry standard for your field)?\n",
    "\n",
    "\n",
    "In the following chapters of this course, we'll short-cut this process and introduce you to some of the tools in the graph above, discuss their uses, benefits, and how to apply them for your work so that you may gain an understanding of how to evaluate the software for yourself.\n",
    "\n",
    "But let's maybe question our motivations first. Why are we even here?\n",
    "\n",
    "\n",
    "----------------------------------------------\n"
   ]
  },
  {
   "attachments": {},
   "cell_type": "markdown",
   "metadata": {},
   "source": [
    "### Why should you care?\n",
    "\n",
    "How about some more personal reasons? Learning about the tools of open science will help you:\n",
    "\n",
    "- Get ahead in your career, widen your skill portfolio\n",
    "- Make your life easier, save time and effort\n",
    "- Be more effective, make collaboration easier\n",
    "- Learn what it means to be [FAIR]() regarding shared information/resources/data\n",
    "- Keep yourself safe from lawsuits (e.g., by avoiding unintentional plagiarism)\n",
    "- Make science accessible to everyone\n",
    "\n",
    "</br>\n",
    "\n",
    "---------------------------\n",
    "\n",
    "\n",
    "Teaching students digital literacy plays a critical role in enabling their access to the field of science by providing them with the skills and understanding they need to participate in this growing field. With these skills, students are better equipped to contribute to the advancement of science and help to promote the values of openness and collaboration in the scientific community.\n",
    "\n",
    "---------------------------\n",
    "\n",
    "Some specific examples would be:\n",
    "\n",
    "**Increased access to data and information:** \n",
    "Digital literacy gives students the skills to access and use large and complex data sets, which is essential for open science. With these skills, students are better equipped to collaborate with other researchers and contribute to the scientific community.\n",
    "\n",
    "**Better collaboration:** Digital literacy enables students to collaborate with researchers worldwide, regardless of location. This allows students to work on open science projects with a broader range of expertise and perspectives, leading to more informed and innovative research.\n",
    "\n",
    "**Improved data management:** Digital literacy helps students manage and preserve their research data in a manner that is accessible and transparent, allowing other researchers to verify and build upon their work.\n",
    "\n",
    "**Encourages transparency:** Digital literacy encourages students to make their research findings openly available and accessible to other researchers, which promotes transparency and accountability in science. Learning about what it means for research to be FAIR(citation), meaning **F**indable, **A**ccessible, **I**nteroperable, and **R**eusable (regarding analyses and digital assets) will not only turn students into better scientists but will magnify the impact of their research in general.\n",
    "\n",
    "**Supports open access:** Digital literacy helps students understand the importance of open access and its benefits to the scientific community. By teaching students about open access, educators can help ensure that future scientists are committed to making their research openly available to all.\n",
    "\n",
    "\n",
    "-------------------------------------\n"
   ]
  },
  {
   "attachments": {},
   "cell_type": "markdown",
   "metadata": {},
   "source": [
    "## Ethical and Social Implications of Digital Literacy for Participation in Academia and Research\n",
    "\n",
    "Let's further reflect on how our digital culture shapes the academic system.\n",
    "\n",
    "Digital technologies have revolutionized how information is collected, analyzed, and disseminated in academia and research. However, they have also raised new ethical and social issues, such as privacy and security, intellectual property, and the democratization of information.\n",
    "\n",
    "Academia and research (you and I included) must consider these ethical and social implications when using digital technologies and work to minimize any negative impacts. This requires an adequate understanding and awareness of digital technologies, their capabilities, and how they shape the scientific process. In short, being digitally literate is essential for everyone involved in this system.\n",
    "\n",
    "Moreover, as researchers and academics, we are responsible for ensuring that our scientific output (which nowadays also usually includes digital technologies in the form of apps or code) promotes the public good and supports the ethical principles of our community. This includes protecting data privacy, ensuring unbiased research results, and promoting transparency and access to our results (usually funded through tax-payer money).\n",
    "\n",
    "Below, you'll find some of the problems emerging from a lack of integration of digital literacy into the academic system.\n",
    "\n",
    "---------------------\n",
    "\n",
    "**Systemic barriers in academia:**\n",
    "\n",
    "\n",
    "1. **Unequal access to technology: the aforementioned \"participation gap\"**\n",
    "\n",
    "Students facing socio-economic hardships may be unable to afford the tools they've been trained on in university (think paid software such as Excel, Photoshop, and SPSS) or cannot afford the hardware to participate in research projects. This perpetuates economic and career-related inequalities, and it is our duty as members of society to remedy this flaw.\n",
    "  \n",
    "2. **Inadequate funding for technology and training:**\n",
    "Many academic institutions have limited budgets for technology and training, which can prevent faculty and staff from acquiring the digital skills they need to succeed in the modern educational environment.\n",
    "\n",
    "\n",
    "3. **Outdated policies and procedures:**\n",
    "Academic institutions may have policies and procedures not designed to accommodate digital technologies, which can create barriers for faculty and students who want to use these tools in their work or depend on them for future endeavors.\n",
    "\n",
    "4. **Lack of integration of digital tools into curricula:** \n",
    "Students may not receive adequate training in digital devices and technologies during their education, which they will require for their research projects or future Ph.D. positions.\n",
    "\n",
    "5. **Resistance to change:** \n",
    "Due to not understanding the necessity of digital skills in the sciences, some faculty members may be resistant to using digital technologies in their teaching, which can create barriers for students trying to develop their digital skills. (For example, why would a psychologist need to be able to code?)\n",
    "\n",
    "6. **Inadequate support:**\n",
    "There may be a lack of support for faculty members trying to integrate digital tools into their teaching, including inadequate training and resources. \n"
   ]
  },
  {
   "attachments": {},
   "cell_type": "markdown",
   "metadata": {
    "slideshow": {
     "slide_type": "subslide"
    }
   },
   "source": [
    "### Where are we now?\n",
    "\n",
    "\n",
    "Please take a moment to reflect on if and how your understanding of the concept of digital literacy has possibly changed following this lecture.\n",
    "\n",
    "**2.1 How well informed are you about the current topic? (i.e.,\n",
    "did you know what was expecting you?)**\n",
    "\n",
    "**2.2) What was the most surprising part of the training/lecture for you? What information in particular stood out to you?**\n",
    "\n",
    "**2.3 What was one of the mentioned reasons why you should care about digital literacy that seemed especially important to you?**\n",
    "\n",
    "**2.4 Could you think of other impacts that a better understanding of digital literacy may have on your life?**\n"
   ]
  },
  {
   "attachments": {},
   "cell_type": "markdown",
   "metadata": {},
   "source": [
    "\n"
   ]
  },
  {
   "attachments": {},
   "cell_type": "markdown",
   "metadata": {
    "slideshow": {
     "slide_type": "slide"
    }
   },
   "source": [
    "## References\n",
    "\n",
    "\n",
    "Gilster, P., & Glister, P. (1997). Digital literacy (p. 1). New York: Wiley Computer Pub.\n",
    "\n",
    "Shapiro, H. (2009) Supporting Digital Literacy: Public Policies and Stakeholder Initiatives. Final Report: Topic\n",
    "Report 4: Conclusions and recommendations based on reviews and findings. Danish Technological Institute.\n",
    "\n",
    "Bawden, D. (2008). Origins and concepts of digital literacy. Digital literacies: Concepts, policies and practices, 30(2008), 17-32.\n",
    "\n",
    "Stergioulas, L.K. (2006) The pursuit of digital literacy and e-inclusion in schools: curriculum development and\n",
    "teacher education. E-start presentation.\n"
   ]
  },
  {
   "attachments": {},
   "cell_type": "markdown",
   "metadata": {},
   "source": [
    "## TL;DR\n",
    "\n",
    "We will necessarily be increasingly relying on computational support to deal with information, data, and analysis due to increased complexity, volume, and speed in creating scientific works. Therefore, it is crucial to be equipped with the understanding and skill to know how and when to rely on digital assets. If you want to hang with the best, get with the times!\n",
    "\n",
    "We've further learned about\n",
    "\n",
    "- Digital literacy, definition, and its components\n",
    "- The role of digital literacy in the research workflow\n",
    "- Ethical implication and why we should care\n"
   ]
  }
 ],
 "metadata": {
  "celltoolbar": "Slideshow",
  "kernelspec": {
   "display_name": "Python 3 (ipykernel)",
   "language": "python",
   "name": "python3"
  },
  "language_info": {
   "codemirror_mode": {
    "name": "ipython",
    "version": 3
   },
   "file_extension": ".py",
   "mimetype": "text/x-python",
   "name": "python",
   "nbconvert_exporter": "python",
   "pygments_lexer": "ipython3",
   "version": "3.7.6"
  },
  "rise": {
   "scroll": "true"
  }
 },
 "nbformat": 4,
 "nbformat_minor": 2
}
